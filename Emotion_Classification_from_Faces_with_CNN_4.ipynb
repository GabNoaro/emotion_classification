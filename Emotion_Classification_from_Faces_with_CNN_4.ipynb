{
 "cells": [
  {
   "cell_type": "markdown",
   "metadata": {},
   "source": [
    "# Emotion Classification from Faces with CNN & PyTorch - Part 4"
   ]
  },
  {
   "cell_type": "markdown",
   "metadata": {},
   "source": [
    "In this series we will continue builind a model that will guess the emotion of a person from a facial expression. We will add techniques such as batch normalization and hyperparameters tuning, and add layers to make more advance models compared to part one.\n",
    "\n",
    "The model will be trained only with the seven basic emtotions identified by Ekman: anger, disgust, contempt, happiness, sadness, fear, surprise.\n",
    "\n",
    "Moreover, the model will look only at photos of real people (no cartoon or generated images), to capture microexpressions, which are crucual to give high accuracy to such a model. In fact, humans heavily rely on microexpressions to distinguish between different emotions in the arc of milliseconds (e.g., fear from surprise, disgust from contempt), and taking those out of the equations would mean removing key elememnts. A challenge might be increasing the quality of the images used for training, then burdening the computational power with an heavier dataset. Feature engineering might be key in selecting the parts of the images that are the most relevant, eliminating everything else.\n",
    "\n",
    "Finally we will build different Convolutional Neural Networks and evaluate the different models. Since the whole process will take a significant amount of code, the work will be divided into different notebooks linking to each other."
   ]
  },
  {
   "cell_type": "markdown",
   "metadata": {},
   "source": [
    "The first notebook focused in loading, cleaning, and augmenting the data. Whereas the first part of the modelling testes different combinations of models and make observations.\n",
    "- [Emotion Recognition from Faces with CNN - Exploratory Data Analysis (EDA)](https://www.kaggle.com/code/gabrielenoaro/emotion-recognition-from-faces-with-cnn-eda)\n",
    "- [Emotion_Classification_from_Faces_with_CNN_Part_1](https://www.kaggle.com/code/gabrielenoaro/emotion-recognition-from-faces-with-cnn-pytorch-1)\n",
    "- [Emotion_Classification_from_Faces_with_CNN_Part_2](https://www.kaggle.com/code/gabrielenoaro/emotion-classification-from-faces-with-cnn-part-2)\n",
    "- [Emotion_Classification_from_Faces_with_CNN_Part_3](https://www.kaggle.com/code/gabrielenoaro/emotion-classification-from-faces-cnn-part-3)"
   ]
  },
  {
   "cell_type": "markdown",
   "metadata": {},
   "source": [
    "Since we have already loaded, cleaned, and inspected the data in our previous notebook [Emotion Recognition from Faces with CNN - Exploratory Data Analysis (EDA)](https://www.kaggle.com/code/gabrielenoaro/emotion-recognition-from-faces-with-cnn-eda), we will jump directly to data preprocessing.\n",
    "\n",
    "In this notebook we to apply grid search, stratified K fold validation, and schedule learning to improve hyperparameters tuning from on the model selected in the last notebook: [Emotion_Classification_from_Faces_with_CNN_Part_3](https://www.kaggle.com/code/gabrielenoaro/emotion-classification-from-faces-cnn-part-3)."
   ]
  },
  {
   "cell_type": "markdown",
   "metadata": {},
   "source": [
    "## Table of contents"
   ]
  },
  {
   "cell_type": "markdown",
   "metadata": {},
   "source": [
    "1. [Load the libraries](#load-the-data)\n",
    "2. [Helper functions for data processing](#helper-functions-for-data-proccessing)\n",
    "3. [Exploratory Data Analysis](#exploratory-data-analysis)\n",
    "4. [Data preprocessing, splitting, and augmentation](#data-preprocessing-splitting-and-augmentation)\n",
    "\n",
    "3. [Split the data](#split-the-data)\n",
    "4. [Build the models](#build-the-models)    \n",
    "5. [Train and test the models](#train-and-test-the-models)\n",
    "\n",
    "    5.1 [Define the hyperparameters](#define-the-hyperparameters)\n",
    "\n",
    "    5.2 [Helper functions for training, testing, and plotting](#helper-functions-for-training-testing-and-plotting)\n",
    "    \n",
    "    5.3 [Train the models](#train-the-models)\n",
    "    \n",
    "    5.4 [Test the models](#test-the-models)\n",
    "\n",
    "    5.5 [Table with the results of the different models](#table-with-the-results-of-the-different-models)\n",
    "\n",
    "    5.6 [Confusion matrix of the best model](#confusion-matrix-of-the-best-model)\n",
    "\n",
    "6. [Conclusions](#conclusions)\n",
    "\n",
    "    6.1 [Observations](#observations)\n",
    "\n",
    "    6.2 [Lessons learned](#lessons-learned)\n",
    "\n",
    "    6.3 [Limitations with the data](#limitations-with-the-data)\n",
    "\n",
    "    6.4 [Next steps](#next-steps)"
   ]
  },
  {
   "cell_type": "markdown",
   "metadata": {},
   "source": [
    "## Load the libraries"
   ]
  },
  {
   "cell_type": "code",
   "execution_count": 1,
   "metadata": {},
   "outputs": [],
   "source": [
    "import pandas as pd\n",
    "import numpy as np\n",
    "\n",
    "import seaborn as sns\n",
    "import matplotlib.pyplot as plt\n",
    "import matplotlib.image as mpimg\n",
    "\n",
    "import pickle\n",
    "import random\n",
    "from hashlib import md5\n",
    "import matplotlib.pyplot as plt\n",
    "import copy\n",
    "\n",
    "from scipy.stats import uniform\n",
    "from sklearn.metrics import confusion_matrix, ConfusionMatrixDisplay\n",
    "from sklearn.model_selection import train_test_split, ParameterGrid, ParameterSampler, StratifiedKFold\n",
    "\n",
    "import os,cv2\n",
    "from PIL import Image\n",
    "from collections import Counter\n",
    "\n",
    "import torch\n",
    "from torch import nn, optim\n",
    "import torch.nn.functional as F\n",
    "from torch.optim.lr_scheduler import StepLR\n",
    "from torchvision.transforms import ToTensor, transforms\n",
    "from torch.utils.data import TensorDataset, DataLoader, random_split, Dataset\n",
    "from torchsummary import summary\n"
   ]
  },
  {
   "cell_type": "markdown",
   "metadata": {},
   "source": [
    "We want also to set a random seed to maintain consistency across our experiments."
   ]
  },
  {
   "cell_type": "code",
   "execution_count": 2,
   "metadata": {},
   "outputs": [],
   "source": [
    "#Cover all the potential cases with the random seed\n",
    "def set_random_seed(seed):\n",
    "    torch.manual_seed(seed)\n",
    "    torch.cuda.manual_seed(seed)\n",
    "    torch.cuda.manual_seed_all(seed)  # if you are using multi-GPU.\n",
    "    np.random.seed(seed)\n",
    "    random.seed(seed)\n",
    "    torch.backends.cudnn.deterministic = True  # Ensure deterministic behavior.\n",
    "    torch.backends.cudnn.benchmark = False\n",
    "\n",
    "set_random_seed(42)"
   ]
  },
  {
   "cell_type": "markdown",
   "metadata": {},
   "source": [
    "## Helper functions for data prerocessing"
   ]
  },
  {
   "cell_type": "code",
   "execution_count": 3,
   "metadata": {},
   "outputs": [],
   "source": [
    "def print_image_info(images, labels, stage):\n",
    "    unique_labels = set(labels)\n",
    "    print(f\"Stage: {stage}\")\n",
    "    print(f\"Number of images: {len(images)}\")\n",
    "    print(f\"Number of labels: {len(labels)}\")\n",
    "    print(f\"Image shape: {images[0].shape}\")\n",
    "    print(f\"Image dtype: {images[0].dtype}\")\n",
    "    print(f\"Unique labels: {unique_labels}\")\n",
    "    for label in unique_labels:\n",
    "        label_images = [img for img, lbl in zip(images, labels) if lbl == label]\n",
    "        if label_images:\n",
    "            print(f\"Class: {label}, Image shape: {label_images[0].shape}, dtype: {label_images[0].dtype}, min: {label_images[0].min()}, max: {label_images[0].max()}\")"
   ]
  },
  {
   "cell_type": "markdown",
   "metadata": {},
   "source": [
    "#### Perform random data reduction on overrepresented classes"
   ]
  },
  {
   "cell_type": "code",
   "execution_count": 4,
   "metadata": {},
   "outputs": [],
   "source": [
    "def reduce_majority_classes(input_pickle_file, output_pickle_file, max_samples_per_class):\n",
    "    with open(input_pickle_file, 'rb') as f:\n",
    "        img_data, img_labels = pickle.load(f)\n",
    "\n",
    "    print_image_info(img_data, img_labels, \"After loading in reduce_majority_classes\")\n",
    "\n",
    "    reduced_data = []\n",
    "    reduced_labels = []\n",
    "    label_counts = Counter(img_labels)\n",
    "\n",
    "    for label in np.unique(img_labels):\n",
    "        label_indices = np.where(img_labels == label)[0]\n",
    "        if label_counts[label] > max_samples_per_class:\n",
    "            label_indices = np.random.choice(label_indices, max_samples_per_class, replace=False)\n",
    "\n",
    "        reduced_data.extend(img_data[label_indices])\n",
    "        reduced_labels.extend(img_labels[label_indices])\n",
    "\n",
    "    reduced_data = np.array(reduced_data)\n",
    "    reduced_labels = np.array(reduced_labels)\n",
    "\n",
    "    print_image_info(reduced_data, reduced_labels, \"Before saving in reduce_majority_classes\")\n",
    "\n",
    "    with open(output_pickle_file, 'wb') as f:\n",
    "        pickle.dump((reduced_data, reduced_labels), f)\n",
    "\n",
    "\n"
   ]
  },
  {
   "cell_type": "markdown",
   "metadata": {},
   "source": [
    "#### Preprocess and transform the data"
   ]
  },
  {
   "cell_type": "code",
   "execution_count": 5,
   "metadata": {},
   "outputs": [],
   "source": [
    "#Preprocess data\n",
    "def load_and_preprocess_images(input_pickle_file, output_pickle_file):\n",
    "    with open(input_pickle_file, 'rb') as f:\n",
    "        img_data, img_labels = pickle.load(f)\n",
    "    \n",
    "    # Convert images to float32\n",
    "    processed_images = [img.astype('float32') for img in img_data]\n",
    "    processed_images = np.array(processed_images)\n",
    "    \n",
    "    print_image_info(processed_images, img_labels, \"Preprocessed\")\n",
    "\n",
    "    with open(output_pickle_file, 'wb') as f:\n",
    "        pickle.dump((processed_images, img_labels), f)"
   ]
  },
  {
   "cell_type": "markdown",
   "metadata": {},
   "source": [
    "#### Encode the labels"
   ]
  },
  {
   "cell_type": "code",
   "execution_count": 6,
   "metadata": {},
   "outputs": [],
   "source": [
    "def encode_labels(input_pickle_file, output_pickle_file, label_mapping_file):\n",
    "    # Load the data from the pickle file\n",
    "    with open(input_pickle_file, 'rb') as f:\n",
    "        img_data, img_labels = pickle.load(f)\n",
    "\n",
    "    # Print initial info\n",
    "    print_image_info(img_data, img_labels, \"After loading in encode_labels\")\n",
    "\n",
    "    # Check unique labels\n",
    "    unique_labels = set(img_labels)\n",
    "    print(f\"Unique labels before encoding: {unique_labels}\")\n",
    "\n",
    "    # Encode labels\n",
    "    sorted_labels = sorted(unique_labels)\n",
    "    label_to_int = {label: idx for idx, label in enumerate(sorted_labels)}\n",
    "    img_labels_int = np.array([label_to_int[label] for label in img_labels])\n",
    "\n",
    "    # Convert labels to long type\n",
    "    img_labels_int = img_labels_int.astype(np.int64)\n",
    "\n",
    "    # Check encoded labels\n",
    "    unique_encoded_labels = set(img_labels_int)\n",
    "    print(f\"Unique labels after encoding: {unique_encoded_labels}\")\n",
    "\n",
    "    # Save encoded data\n",
    "    with open(output_pickle_file, 'wb') as f:\n",
    "        pickle.dump((img_data, img_labels_int), f)\n",
    "\n",
    "    # Save label mappings\n",
    "    label_mapping = {'label_to_int': label_to_int, 'int_to_label': {v: k for k, v in label_to_int.items()}}\n",
    "    with open(label_mapping_file, 'wb') as f:\n",
    "        pickle.dump(label_mapping, f)\n",
    "\n",
    "    # Print final info\n",
    "    print_image_info(img_data, img_labels_int, \"After encoding labels\")\n",
    "    print(\"Label mapping saved:\")\n",
    "    print(label_mapping)\n"
   ]
  },
  {
   "cell_type": "markdown",
   "metadata": {},
   "source": [
    "#### Visualize image"
   ]
  },
  {
   "cell_type": "code",
   "execution_count": 7,
   "metadata": {},
   "outputs": [],
   "source": [
    "def visualize_sample_images(images, labels, label_mapping, title):\n",
    "    fig, axs = plt.subplots(1, len(label_mapping), figsize=(15, 7))\n",
    "    class_to_images = {}\n",
    "    for img, label in zip(images, labels):\n",
    "        if label not in class_to_images:\n",
    "            class_to_images[label] = []\n",
    "        class_to_images[label].append(img)\n",
    "\n",
    "    for i, (label, images) in enumerate(class_to_images.items()):\n",
    "        img = random.choice(images)\n",
    "        img = img.squeeze()\n",
    "        ax = axs[i]\n",
    "        ax.imshow(img, cmap='gray')\n",
    "        ax.set_title(f\"Class: {label_mapping[label]}\")\n",
    "        ax.axis('off')\n",
    "\n",
    "    plt.suptitle(title)\n",
    "    plt.tight_layout()\n",
    "    plt.show()"
   ]
  },
  {
   "cell_type": "markdown",
   "metadata": {},
   "source": [
    "#### Count and Plot the number of itmes for each class"
   ]
  },
  {
   "cell_type": "code",
   "execution_count": 10,
   "metadata": {},
   "outputs": [],
   "source": [
    "# Helper function to count and plot the items for each label\n",
    "def count_items_in_classes(dataset_file):\n",
    "    # Load the pickled data\n",
    "    with open(dataset_file, 'rb') as f:\n",
    "        img_data, img_labels = pickle.load(f)\n",
    "\n",
    "    # Count the occurrences of each label\n",
    "    unique_labels, counts = np.unique(img_labels, return_counts=True)\n",
    "    \n",
    "    # Print the counts for each label\n",
    "    for label, count in zip(unique_labels, counts):\n",
    "        print(f'Label {label}: {count} items')"
   ]
  },
  {
   "cell_type": "code",
   "execution_count": 11,
   "metadata": {},
   "outputs": [],
   "source": [
    "#Helper function to cont and plot the items for each label\n",
    "def plot_items_in_classes(dataset_file):\n",
    "    # Load the pickled data\n",
    "    with open(dataset_file, 'rb') as f:\n",
    "        img_data, img_labels = pickle.load(f)\n",
    "\n",
    "    # Count the occurrences of each label\n",
    "    unique_labels, counts = np.unique(img_labels, return_counts=True)\n",
    "\n",
    "    # Create the bar plot\n",
    "    plt.figure(figsize=(10, 6))\n",
    "    plt.bar(unique_labels, counts, color='skyblue')\n",
    "    plt.xlabel('Emotion')\n",
    "    plt.ylabel('Number of Images')\n",
    "    plt.title('Number of Images per Emotion Label')\n",
    "    plt.xticks(rotation=45)\n",
    "    plt.tight_layout()\n",
    "    plt.show()"
   ]
  },
  {
   "cell_type": "markdown",
   "metadata": {},
   "source": [
    "#### Verify the correctness of the labels"
   ]
  },
  {
   "cell_type": "code",
   "execution_count": 12,
   "metadata": {},
   "outputs": [],
   "source": [
    "def verify_images(dataset_file):\n",
    "    with open(dataset_file, 'rb') as f:\n",
    "        img_data, img_labels = pickle.load(f)\n",
    "\n",
    "    # Load the label mappings\n",
    "    label_mapping_file = 'label_mapping.pkl'\n",
    "    with open(label_mapping_file, 'rb') as f:\n",
    "        label_mapping = pickle.load(f)\n",
    "    int_to_label = label_mapping['int_to_label']\n",
    "\n",
    "    # Organize images by class\n",
    "    class_to_images = {}\n",
    "    for img, label in zip(img_data, img_labels):\n",
    "        if label not in class_to_images:\n",
    "            class_to_images[label] = []\n",
    "        class_to_images[label].append(img)\n",
    "\n",
    "    # Plot one sample image for each class\n",
    "    num_classes = len(class_to_images)\n",
    "    fig, axs = plt.subplots(1, num_classes, figsize=(15, 5))\n",
    "\n",
    "    for i, (label, images) in enumerate(class_to_images.items()):\n",
    "        img = random.choice(images)\n",
    "        \n",
    "        # Ensure the image values are in [0, 1]\n",
    "        img = np.clip(img, 0.0, 1.0)\n",
    "        \n",
    "        # If the image has a singleton dimension, squeeze it\n",
    "        if img.shape[0] == 1:\n",
    "            img = img.squeeze(0)\n",
    "        else:\n",
    "            img = img.squeeze()\n",
    "        \n",
    "        # Debugging: Print image information\n",
    "        print(f\"Class: {int_to_label[label]}, Image shape: {img.shape}, dtype: {img.dtype}, min: {img.min()}, max: {img.max()}\")\n",
    "\n",
    "        # Display the image\n",
    "        ax = axs[i]\n",
    "        ax.imshow(img, cmap='gray')\n",
    "        ax.set_title(f\"Class: {int_to_label[label]}\")\n",
    "        ax.axis('off')\n",
    "\n",
    "    plt.tight_layout()\n",
    "    plt.show()"
   ]
  },
  {
   "cell_type": "markdown",
   "metadata": {},
   "source": [
    "#### Remove classes from the dataset"
   ]
  },
  {
   "cell_type": "code",
   "execution_count": 13,
   "metadata": {},
   "outputs": [],
   "source": [
    "def remove_classes_and_save(input_pickle_file, output_pickle_file, classes_to_remove):\n",
    "    # Load the pickled data\n",
    "    with open(input_pickle_file, 'rb') as f:\n",
    "        img_data, img_labels = pickle.load(f)\n",
    "    \n",
    "    # Create lists to store the filtered data\n",
    "    filtered_img_data = []\n",
    "    filtered_img_labels = []\n",
    "    \n",
    "    # Remove specified classes from the dataset\n",
    "    for img, label in zip(img_data, img_labels):\n",
    "        if label not in classes_to_remove:\n",
    "            filtered_img_data.append(img)\n",
    "            filtered_img_labels.append(label)\n",
    "    \n",
    "    # Convert lists to numpy arrays\n",
    "    filtered_img_data = np.array(filtered_img_data, dtype=np.float32)\n",
    "    filtered_img_labels = np.array(filtered_img_labels, dtype=img_labels.dtype)\n",
    "    \n",
    "    # Save the filtered dataset to a new pickle file\n",
    "    with open(output_pickle_file, 'wb') as f:\n",
    "        pickle.dump((filtered_img_data, filtered_img_labels), f)\n",
    "    \n",
    "    print(f\"Dataset without classes {classes_to_remove} saved to {output_pickle_file}\")\n",
    "\n"
   ]
  },
  {
   "cell_type": "markdown",
   "metadata": {},
   "source": [
    "## Exploratory Data Analysis"
   ]
  },
  {
   "cell_type": "code",
   "execution_count": 4,
   "metadata": {},
   "outputs": [
    {
     "name": "stdout",
     "output_type": "stream",
     "text": [
      "Label Anger: 4977 items\n",
      "Label Contempt: 73 items\n",
      "Label Disgust: 743 items\n",
      "Label Fear: 5003 items\n",
      "Label Happiness: 9111 items\n",
      "Label Neutral: 6155 items\n",
      "Label Sadness: 6100 items\n",
      "Label Surprise: 3599 items\n"
     ]
    }
   ],
   "source": [
    "# Specify the input dataset file\n",
    "dataset_file = 'images_labels_no_duplicates.pkl'\n",
    "\n",
    "count_items_in_classes(dataset_file)"
   ]
  },
  {
   "cell_type": "markdown",
   "metadata": {},
   "source": [
    "Disgust and especially Contempt are extremely underepresented classes, therefore we either need to dramatically reduce the size of all classes to fewer than 1000 or perhaps 500 images, find new images, or remove Contempt and Disgust from this particular experiment."
   ]
  },
  {
   "cell_type": "markdown",
   "metadata": {},
   "source": [
    "Let's remove Disgust and Contempt because they are to underrepresented."
   ]
  },
  {
   "cell_type": "code",
   "execution_count": 22,
   "metadata": {},
   "outputs": [
    {
     "name": "stdout",
     "output_type": "stream",
     "text": [
      "Dataset without classes ['Disgust', 'Contempt'] saved to images_labels_no_duplicates_no_dis_cont.pkl\n"
     ]
    }
   ],
   "source": [
    "input_pickle_file = 'images_labels_no_duplicates.pkl'\n",
    "output_pickle_file = 'images_labels_no_duplicates_no_dis_cont.pkl'\n",
    "classes_to_remove = ['Disgust', 'Contempt']\n",
    "\n",
    "remove_classes_and_save(input_pickle_file, output_pickle_file, classes_to_remove)"
   ]
  },
  {
   "cell_type": "code",
   "execution_count": 23,
   "metadata": {},
   "outputs": [
    {
     "name": "stdout",
     "output_type": "stream",
     "text": [
      "Label Anger: 4977 items\n",
      "Label Fear: 5003 items\n",
      "Label Happiness: 9111 items\n",
      "Label Neutral: 6155 items\n",
      "Label Sadness: 6100 items\n",
      "Label Surprise: 3599 items\n"
     ]
    }
   ],
   "source": [
    "# Specify the input dataset file\n",
    "dataset_file = 'images_labels_no_duplicates_no_dis_cont.pkl'\n",
    "\n",
    "count_items_in_classes(dataset_file)"
   ]
  },
  {
   "cell_type": "markdown",
   "metadata": {},
   "source": [
    "The Disgust and Contempt classes have been removed successfully, and the new dataset has been saved in a pickle file."
   ]
  },
  {
   "cell_type": "code",
   "execution_count": 24,
   "metadata": {},
   "outputs": [
    {
     "data": {
      "image/png": "[encoded data removed]",
      "text/plain": [
       "<Figure size 1000x600 with 1 Axes>"
      ]
     },
     "metadata": {},
     "output_type": "display_data"
    }
   ],
   "source": [
    "# Specify the input dataset file\n",
    "dataset_file = 'images_labels_no_duplicates_no_dis_cont.pkl'\n",
    "\n",
    "# Execute the verification function\n",
    "plot_items_in_classes(dataset_file)"
   ]
  },
  {
   "cell_type": "markdown",
   "metadata": {},
   "source": [
    "We could use the new function to randomly reduce the number of items in the Happiness class so it equals the Neutral class, then we can augment all classes to reach a cerain number of images."
   ]
  },
  {
   "cell_type": "markdown",
   "metadata": {},
   "source": [
    "## Data preprocessing"
   ]
  },
  {
   "cell_type": "markdown",
   "metadata": {},
   "source": [
    "#### Random data reduction to reduce class imbalances"
   ]
  },
  {
   "cell_type": "markdown",
   "metadata": {},
   "source": [
    "Even if random data reduction on majority classes would make classes much more balanced, we tested the smaller dataset, and the model underfits the data. There is why we are going to train with a bigger dataset for the moment, even if classes are less balanced."
   ]
  },
  {
   "cell_type": "code",
   "execution_count": null,
   "metadata": {},
   "outputs": [],
   "source": [
    "input_pickle_file = \"images_labels_no_duplicates_no_dis_cont.pkl\"\n",
    "output_pickle_file = \"reduced_images_3.pkl\"\n",
    "#max_samples_per_class = 5003\n",
    "max_samples_per_class = 9111\n",
    "\n",
    "#Reduce majority classes\n",
    "reduce_majority_classes(input_pickle_file, output_pickle_file, max_samples_per_class)"
   ]
  },
  {
   "cell_type": "markdown",
   "metadata": {},
   "source": [
    "#### Process and transform the data"
   ]
  },
  {
   "cell_type": "code",
   "execution_count": null,
   "metadata": {},
   "outputs": [],
   "source": [
    "input_pickle_file = \"reduced_images_3.pkl\"\n",
    "output_pickle_file = \"processed_images_3.pkl\"\n",
    "\n",
    "load_and_preprocess_images(input_pickle_file, output_pickle_file)"
   ]
  },
  {
   "cell_type": "markdown",
   "metadata": {},
   "source": [
    "#### Encode labels"
   ]
  },
  {
   "cell_type": "code",
   "execution_count": 5,
   "metadata": {},
   "outputs": [
    {
     "name": "stdout",
     "output_type": "stream",
     "text": [
      "Stage: After loading in encode_labels\n",
      "Number of images: 34945\n",
      "Number of labels: 34945\n",
      "Image shape: (48, 48)\n",
      "Image dtype: float32\n",
      "Unique labels: {'Sadness', 'Happiness', 'Surprise', 'Anger', 'Neutral', 'Fear'}\n",
      "Class: Sadness, Image shape: (48, 48), dtype: float32, min: 0.0, max: 0.8470588326454163\n",
      "Class: Happiness, Image shape: (48, 48), dtype: float32, min: 0.23137255012989044, max: 0.843137264251709\n",
      "Class: Surprise, Image shape: (48, 48), dtype: float32, min: 0.06666667014360428, max: 1.0\n",
      "Class: Anger, Image shape: (48, 48), dtype: float32, min: 0.04313725605607033, max: 0.8196078538894653\n",
      "Class: Neutral, Image shape: (48, 48), dtype: float32, min: 0.05098039284348488, max: 0.9725490212440491\n",
      "Class: Fear, Image shape: (48, 48), dtype: float32, min: 0.0, max: 1.0\n",
      "Unique labels before encoding: {'Sadness', 'Happiness', 'Surprise', 'Anger', 'Neutral', 'Fear'}\n",
      "Unique labels after encoding: {0, 1, 2, 3, 4, 5}\n",
      "Stage: After encoding labels\n",
      "Number of images: 34945\n",
      "Number of labels: 34945\n",
      "Image shape: (48, 48)\n",
      "Image dtype: float32\n",
      "Unique labels: {0, 1, 2, 3, 4, 5}\n",
      "Class: 0, Image shape: (48, 48), dtype: float32, min: 0.04313725605607033, max: 0.8196078538894653\n",
      "Class: 1, Image shape: (48, 48), dtype: float32, min: 0.0, max: 1.0\n",
      "Class: 2, Image shape: (48, 48), dtype: float32, min: 0.23137255012989044, max: 0.843137264251709\n",
      "Class: 3, Image shape: (48, 48), dtype: float32, min: 0.05098039284348488, max: 0.9725490212440491\n",
      "Class: 4, Image shape: (48, 48), dtype: float32, min: 0.0, max: 0.8470588326454163\n",
      "Class: 5, Image shape: (48, 48), dtype: float32, min: 0.06666667014360428, max: 1.0\n",
      "Label mapping saved:\n",
      "{'label_to_int': {'Anger': 0, 'Fear': 1, 'Happiness': 2, 'Neutral': 3, 'Sadness': 4, 'Surprise': 5}, 'int_to_label': {0: 'Anger', 1: 'Fear', 2: 'Happiness', 3: 'Neutral', 4: 'Sadness', 5: 'Surprise'}}\n"
     ]
    }
   ],
   "source": [
    "#input_pickle_file = \"reduced_images_3.pkl\"\n",
    "input_pickle_file = 'processed_images_3.pkl'\n",
    "output_pickle_file = 'encoded_images.pkl'\n",
    "label_mapping = 'label_mapping.pkl'\n",
    "encode_labels(input_pickle_file, output_pickle_file, label_mapping)\n"
   ]
  },
  {
   "cell_type": "markdown",
   "metadata": {},
   "source": [
    "## Build the models"
   ]
  },
  {
   "cell_type": "markdown",
   "metadata": {},
   "source": [
    "We are loading the architectures of the best performing models of our [previous notebook](https://www.kaggle.com/code/gabrielenoaro/emotion-classification-from-faces-cnn-part-3)."
   ]
  },
  {
   "cell_type": "markdown",
   "metadata": {},
   "source": [
    "#### Model 33"
   ]
  },
  {
   "cell_type": "code",
   "execution_count": 8,
   "metadata": {},
   "outputs": [],
   "source": [
    "class CNNModel(nn.Module):\n",
    "    def __init__(self):\n",
    "        super(CNNModel, self).__init__()\n",
    "        \n",
    "        # Define the layers\n",
    "        self.conv1 = nn.Conv2d(in_channels=1, out_channels=64, kernel_size=3, padding=1)\n",
    "        self.bn1 = nn.BatchNorm2d(64)\n",
    "        \n",
    "        self.conv2 = nn.Conv2d(in_channels=64, out_channels=64, kernel_size=3, padding=1)\n",
    "        self.bn2 = nn.BatchNorm2d(64)\n",
    "        \n",
    "        self.pool = nn.MaxPool2d(kernel_size=2, stride=2)\n",
    "        self.dropout1 = nn.Dropout(p=0.5)\n",
    "        \n",
    "        self.conv3 = nn.Conv2d(in_channels=64, out_channels=128, kernel_size=3, padding=1)\n",
    "        self.bn3 = nn.BatchNorm2d(128)\n",
    "        \n",
    "        self.conv4 = nn.Conv2d(in_channels=128, out_channels=128, kernel_size=3, padding=1)\n",
    "        self.bn4 = nn.BatchNorm2d(128)\n",
    "        self.dropout2 = nn.Dropout(p=0.5)\n",
    "        \n",
    "        self.conv5 = nn.Conv2d(in_channels=128, out_channels=256, kernel_size=3, padding=1)\n",
    "        self.bn5 = nn.BatchNorm2d(256)\n",
    "        \n",
    "        self.conv6 = nn.Conv2d(in_channels=256, out_channels=256, kernel_size=3, padding=1)\n",
    "        self.bn6 = nn.BatchNorm2d(256)\n",
    "        self.dropout3 = nn.Dropout(p=0.5)\n",
    "        \n",
    "        self.fc1 = nn.Linear(256 * 6 * 6, 128)\n",
    "        self.bn7 = nn.BatchNorm1d(128)\n",
    "        self.dropout4 = nn.Dropout(p=0.5)\n",
    "        \n",
    "        self.out = nn.Linear(128, 6)  # Change the number of output channels to 8\n",
    "        \n",
    "    def forward(self, x):\n",
    "        x = F.relu(self.bn1(self.conv1(x)))\n",
    "        x = F.relu(self.bn2(self.conv2(x)))\n",
    "        x = self.pool(x)\n",
    "        x = self.dropout1(x)\n",
    "        \n",
    "        x = F.relu(self.bn3(self.conv3(x)))\n",
    "        x = F.relu(self.bn4(self.conv4(x)))\n",
    "        x = self.pool(x)\n",
    "        x = self.dropout2(x)\n",
    "        \n",
    "        x = F.relu(self.bn5(self.conv5(x)))\n",
    "        x = F.relu(self.bn6(self.conv6(x)))\n",
    "        x = self.pool(x)\n",
    "        x = self.dropout3(x)\n",
    "        \n",
    "        x = x.view(x.size(0), -1)  # Flatten the tensor\n",
    "        x = F.relu(self.bn7(self.fc1(x)))\n",
    "        x = self.dropout4(x)\n",
    "        x = self.out(x)\n",
    "        \n",
    "        return x"
   ]
  },
  {
   "cell_type": "code",
   "execution_count": 9,
   "metadata": {},
   "outputs": [
    {
     "name": "stdout",
     "output_type": "stream",
     "text": [
      "cuda\n",
      "----------------------------------------------------------------\n",
      "        Layer (type)               Output Shape         Param #\n",
      "================================================================\n",
      "            Conv2d-1            [1, 64, 48, 48]             640\n",
      "       BatchNorm2d-2            [1, 64, 48, 48]             128\n",
      "            Conv2d-3            [1, 64, 48, 48]          36,928\n",
      "       BatchNorm2d-4            [1, 64, 48, 48]             128\n",
      "         MaxPool2d-5            [1, 64, 24, 24]               0\n",
      "           Dropout-6            [1, 64, 24, 24]               0\n",
      "            Conv2d-7           [1, 128, 24, 24]          73,856\n",
      "       BatchNorm2d-8           [1, 128, 24, 24]             256\n",
      "            Conv2d-9           [1, 128, 24, 24]         147,584\n",
      "      BatchNorm2d-10           [1, 128, 24, 24]             256\n",
      "        MaxPool2d-11           [1, 128, 12, 12]               0\n",
      "          Dropout-12           [1, 128, 12, 12]               0\n",
      "           Conv2d-13           [1, 256, 12, 12]         295,168\n",
      "      BatchNorm2d-14           [1, 256, 12, 12]             512\n",
      "           Conv2d-15           [1, 256, 12, 12]         590,080\n",
      "      BatchNorm2d-16           [1, 256, 12, 12]             512\n",
      "        MaxPool2d-17             [1, 256, 6, 6]               0\n",
      "          Dropout-18             [1, 256, 6, 6]               0\n",
      "           Linear-19                   [1, 128]       1,179,776\n",
      "      BatchNorm1d-20                   [1, 128]             256\n",
      "          Dropout-21                   [1, 128]               0\n",
      "           Linear-22                     [1, 6]             774\n",
      "================================================================\n",
      "Total params: 2,326,854\n",
      "Trainable params: 2,326,854\n",
      "Non-trainable params: 0\n",
      "----------------------------------------------------------------\n",
      "Input size (MB): 0.01\n",
      "Forward/backward pass size (MB): 8.86\n",
      "Params size (MB): 8.88\n",
      "Estimated Total Size (MB): 17.75\n",
      "----------------------------------------------------------------\n"
     ]
    }
   ],
   "source": [
    "model_33 = CNNModel()\n",
    "\n",
    "# Select between 'cpu' or 'cuda' to access GPU\n",
    "device = 'cuda' if torch.cuda.is_available() else 'cpu'\n",
    "print(device)\n",
    "\n",
    "# Move the model to the selected device\n",
    "model_33.to(device)\n",
    "\n",
    "# Summarize the model\n",
    "summary(model_33, input_size=(1, 48, 48), batch_size=1, device=device)"
   ]
  },
  {
   "cell_type": "markdown",
   "metadata": {},
   "source": [
    "#### Model 39"
   ]
  },
  {
   "cell_type": "code",
   "execution_count": 34,
   "metadata": {},
   "outputs": [],
   "source": [
    "class CNNModel(nn.Module):\n",
    "    def __init__(self):\n",
    "        super(CNNModel, self).__init__()\n",
    "        self.conv1 = nn.Conv2d(in_channels=1, out_channels=32, kernel_size=3, padding=1)\n",
    "        self.bn1 = nn.BatchNorm2d(32)\n",
    "        self.conv2 = nn.Conv2d(in_channels=32, out_channels=64, kernel_size=3, padding=1)\n",
    "        self.bn2 = nn.BatchNorm2d(64)\n",
    "\n",
    "        self.pool = nn.MaxPool2d(kernel_size=2, stride=2)\n",
    "\n",
    "        self.global_pool = nn.AdaptiveAvgPool2d((1, 1))\n",
    "\n",
    "        self.fc1 = nn.Linear(64, 32)\n",
    "        self.fc2 = nn.Linear(32, 6)\n",
    "\n",
    "    def forward(self, x):\n",
    "        x = F.relu(self.bn1(self.conv1(x)))\n",
    "        x = self.pool(x)\n",
    "        \n",
    "        x = F.relu(self.bn2(self.conv2(x)))\n",
    "        x = self.pool(x)\n",
    "\n",
    "        x = self.global_pool(x)\n",
    "        x = x.view(x.size(0), -1)\n",
    "        \n",
    "        x = F.relu(self.fc1(x))\n",
    "        x = self.fc2(x)\n",
    "        \n",
    "        return x"
   ]
  },
  {
   "cell_type": "code",
   "execution_count": 35,
   "metadata": {},
   "outputs": [
    {
     "name": "stdout",
     "output_type": "stream",
     "text": [
      "cuda\n",
      "----------------------------------------------------------------\n",
      "        Layer (type)               Output Shape         Param #\n",
      "================================================================\n",
      "            Conv2d-1            [1, 32, 48, 48]             320\n",
      "       BatchNorm2d-2            [1, 32, 48, 48]              64\n",
      "         MaxPool2d-3            [1, 32, 24, 24]               0\n",
      "            Conv2d-4            [1, 64, 24, 24]          18,496\n",
      "       BatchNorm2d-5            [1, 64, 24, 24]             128\n",
      "         MaxPool2d-6            [1, 64, 12, 12]               0\n",
      " AdaptiveAvgPool2d-7              [1, 64, 1, 1]               0\n",
      "            Linear-8                    [1, 32]           2,080\n",
      "            Linear-9                     [1, 6]             198\n",
      "================================================================\n",
      "Total params: 21,286\n",
      "Trainable params: 21,286\n",
      "Non-trainable params: 0\n",
      "----------------------------------------------------------------\n",
      "Input size (MB): 0.01\n",
      "Forward/backward pass size (MB): 1.90\n",
      "Params size (MB): 0.08\n",
      "Estimated Total Size (MB): 1.99\n",
      "----------------------------------------------------------------\n"
     ]
    }
   ],
   "source": [
    "model_39 = CNNModel()\n",
    "\n",
    "# Select between 'cpu' or 'cuda' to access GPU\n",
    "#device = 'cpu' # Select between 'cpu' or 'cuda' to access GPU\n",
    "device = 'cuda' if torch.cuda.is_available() else 'cpu'\n",
    "print(device)\n",
    "\n",
    "# Move the model to the selected device\n",
    "model_39.to(device)\n",
    "\n",
    "# Summarize the model\n",
    "summary(model_39, input_size=(1, 48, 48), batch_size=1, device=device)"
   ]
  },
  {
   "cell_type": "markdown",
   "metadata": {},
   "source": [
    "## Helper functions for training, testing, and plotting"
   ]
  },
  {
   "cell_type": "markdown",
   "metadata": {},
   "source": [
    "Since with stratified K-fold validation the data is split and augmented during training, we moved the related helper functions from the [preprocessing](#helper-functions-for-data-prerocessing) section to training section, to facilitate debugging."
   ]
  },
  {
   "cell_type": "markdown",
   "metadata": {},
   "source": [
    "#### Define the custom dataset class"
   ]
  },
  {
   "cell_type": "code",
   "execution_count": 10,
   "metadata": {},
   "outputs": [],
   "source": [
    "class CustomDataset(Dataset):\n",
    "    def __init__(self, images, labels, transform=None):\n",
    "        self.images = images\n",
    "        self.labels = labels\n",
    "        self.transform = transform\n",
    "\n",
    "    def __len__(self):\n",
    "        return len(self.images)\n",
    "\n",
    "    def __getitem__(self, idx):\n",
    "        image = self.images[idx]\n",
    "        label = self.labels[idx]\n",
    "\n",
    "        if self.transform:\n",
    "            image = self.transform(image)\n",
    "\n",
    "        return image, label\n",
    "    "
   ]
  },
  {
   "cell_type": "markdown",
   "metadata": {},
   "source": [
    "#### Conversions for stratified K fold validation"
   ]
  },
  {
   "cell_type": "code",
   "execution_count": 11,
   "metadata": {},
   "outputs": [],
   "source": [
    "def convert_to_pil_format(images):\n",
    "    return [Image.fromarray((img * 255).astype(np.uint8), mode='L') for img in images]\n",
    "\n",
    "def convert_to_numpy_array(img_data_pil):\n",
    "    img_data_numpy = []\n",
    "    for img_pil in img_data_pil:\n",
    "        img_numpy = np.array(img_pil).astype('float32') / 255.0  # Normalize to [0, 1]\n",
    "        if img_numpy.ndim == 2:\n",
    "            img_numpy = np.expand_dims(img_numpy, axis=0)  # Add channel dimension\n",
    "        elif img_numpy.ndim == 3 and img_numpy.shape[2] == 1:\n",
    "            img_numpy = np.squeeze(img_numpy, axis=2)\n",
    "            img_numpy = np.expand_dims(img_numpy, axis=0)\n",
    "        img_numpy = np.clip(img_numpy, 0.0, 1.0)  # Ensure values are in [0, 1]\n",
    "        img_data_numpy.append(img_numpy)\n",
    "    return img_data_numpy\n",
    "\n",
    "\n",
    "\n",
    "def convert_to_tensors(images, labels):\n",
    "    all_images_tensor = torch.tensor(images, dtype=torch.float32)\n",
    "    all_labels_tensor = torch.tensor(labels, dtype=torch.int64)\n",
    "    dataset = TensorDataset(all_images_tensor, all_labels_tensor)\n",
    "    return dataset\n",
    "\n"
   ]
  },
  {
   "cell_type": "markdown",
   "metadata": {},
   "source": [
    "#### Augmentation & balancing for stratified K fold"
   ]
  },
  {
   "cell_type": "code",
   "execution_count": 12,
   "metadata": {},
   "outputs": [],
   "source": [
    "\n",
    "data_transforms = transforms.Compose([\n",
    "    transforms.RandomRotation(60),\n",
    "    transforms.RandomResizedCrop(48, scale=(0.8, 1.0))\n",
    "])\n",
    "\n",
    "\n",
    "def augment_images(img_data_pil, target_count):\n",
    "    augmented_images_pil = []\n",
    "    while len(augmented_images_pil) + len(img_data_pil) < target_count:\n",
    "        for img_pil in img_data_pil:\n",
    "            if len(augmented_images_pil) + len(img_data_pil) >= target_count:\n",
    "                break\n",
    "            augmented_img_pil = data_transforms(img_pil)\n",
    "            augmented_images_pil.append(augmented_img_pil)\n",
    "    print_image_info(augmented_images_pil, [None]*len(augmented_images_pil), \"Augmented\")\n",
    "    return augmented_images_pil\n",
    "\n",
    "def balance_dataset(img_data, img_labels, target_number_of_images):\n",
    "    img_data_dict = {label: [] for label in set(img_labels)}\n",
    "    for img, label in zip(img_data, img_labels):\n",
    "        img_data_dict[label].append(img)\n",
    "        \n",
    "    balanced_img_data_dict = {}\n",
    "    for label, img_list in img_data_dict.items():\n",
    "        print(f'Processing {label}, {len(img_list)} images')\n",
    "        if len(img_list) < target_number_of_images:\n",
    "            augmented_imgs = augment_images(img_list, target_number_of_images)\n",
    "            balanced_img_data_dict[label] = img_list + [np.array(img).astype('float32') / 255.0 for img in augmented_imgs]\n",
    "        else:\n",
    "            balanced_img_data_dict[label] = img_list\n",
    "            \n",
    "    balanced_img_data = []\n",
    "    balanced_img_labels = []\n",
    "    for label, imgs in balanced_img_data_dict.items():\n",
    "        balanced_img_data.extend(imgs)\n",
    "        balanced_img_labels.extend([label] * len(imgs))\n",
    "        \n",
    "    return balanced_img_data, balanced_img_labels"
   ]
  },
  {
   "cell_type": "markdown",
   "metadata": {},
   "source": [
    "#### Train and cross validation"
   ]
  },
  {
   "cell_type": "code",
   "execution_count": 13,
   "metadata": {},
   "outputs": [],
   "source": [
    "def train_model(model, model_name, criterion, optimizer, scheduler, train_loader, val_loader, device, num_epochs, patience, checkpoint_interval):\n",
    "    model = model.to(device)\n",
    "    model.train()  # Set the model to training mode\n",
    "\n",
    "    train_losses = []\n",
    "    train_accuracies = []\n",
    "    val_losses = []\n",
    "    val_accuracies = []\n",
    "\n",
    "    best_val_accuracy = 0.0\n",
    "    best_model_wts = copy.deepcopy(model.state_dict())\n",
    "    epochs_without_improvement = 0\n",
    "\n",
    "    for epoch in range(num_epochs):\n",
    "        running_loss = 0.0\n",
    "        correct = 0\n",
    "        total = 0\n",
    "\n",
    "        for images, labels in train_loader:\n",
    "            images, labels = images.to(device), labels.to(device)\n",
    "\n",
    "            optimizer.zero_grad()\n",
    "            outputs = model(images)\n",
    "            loss = criterion(outputs, labels)\n",
    "            loss.backward()\n",
    "            optimizer.step()\n",
    "\n",
    "            running_loss += loss.item()\n",
    "\n",
    "            _, predicted = torch.max(outputs.data, 1)\n",
    "            total += labels.size(0)\n",
    "            correct += (predicted == labels).sum().item()\n",
    "\n",
    "        epoch_train_accuracy = 100 * correct / total\n",
    "        train_accuracies.append(epoch_train_accuracy)\n",
    "        train_losses.append(running_loss / len(train_loader))\n",
    "\n",
    "        print(f'Epoch [{epoch + 1}/{num_epochs}], Loss: {train_losses[-1]}, Accuracy: {epoch_train_accuracy}%')\n",
    "\n",
    "        # Validation phase\n",
    "        model.eval()\n",
    "        val_loss = 0.0\n",
    "        correct = 0\n",
    "        total = 0\n",
    "\n",
    "        with torch.no_grad():\n",
    "            for images, labels in val_loader:\n",
    "                images, labels = images.to(device), labels.to(device)\n",
    "\n",
    "                outputs = model(images)\n",
    "                loss = criterion(outputs, labels)\n",
    "\n",
    "                val_loss += loss.item()\n",
    "\n",
    "                _, predicted = torch.max(outputs.data, 1)\n",
    "                total += labels.size(0)\n",
    "                correct += (predicted == labels).sum().item()\n",
    "\n",
    "        epoch_val_accuracy = 100 * correct / total\n",
    "        val_accuracies.append(epoch_val_accuracy)\n",
    "        val_losses.append(val_loss / len(val_loader))\n",
    "\n",
    "        print(f'Validation Loss: {val_losses[-1]}, Accuracy: {epoch_val_accuracy}%')\n",
    "\n",
    "        # Step the scheduler\n",
    "        scheduler.step()\n",
    "\n",
    "        # Check for early stopping\n",
    "        if epoch_val_accuracy > best_val_accuracy:\n",
    "            best_val_accuracy = epoch_val_accuracy\n",
    "            best_model_wts = copy.deepcopy(model.state_dict())\n",
    "            epochs_without_improvement = 0\n",
    "        else:\n",
    "            epochs_without_improvement += 1\n",
    "\n",
    "        if epochs_without_improvement >= patience and epoch_train_accuracy > epoch_val_accuracy:\n",
    "            print(f\"Early stopping at epoch {epoch + 1} due to no improvement for {patience} epochs and training accuracy higher than validation accuracy.\")\n",
    "            break\n",
    "\n",
    "        # Save model checkpoint every checkpoint_interval epochs\n",
    "        if (epoch + 1) % checkpoint_interval == 0:\n",
    "            checkpoint_filename = f'{model_name}_checkpoint_epoch_{epoch + 1}.pth'\n",
    "            torch.save(model.state_dict(), checkpoint_filename)\n",
    "            print(f'Checkpoint saved at epoch {epoch + 1}')\n",
    "\n",
    "    # Load the best model weights before early stopping\n",
    "    model.load_state_dict(best_model_wts)\n",
    "\n",
    "    # Save the best model weights\n",
    "    model_filename = f'{model_name}_best_model.pth'\n",
    "    torch.save(model.state_dict(), model_filename)\n",
    "    print(f'Best model saved as {model_filename}')\n",
    "\n",
    "    # Save the accuracies and model name\n",
    "    with open(f'{model_name}_accuracies.pkl', 'wb') as f:\n",
    "        pickle.dump((model_name, train_accuracies, val_accuracies, val_losses, train_losses), f)\n",
    "\n",
    "    return train_losses, train_accuracies, val_losses, val_accuracies"
   ]
  },
  {
   "cell_type": "code",
   "execution_count": 19,
   "metadata": {},
   "outputs": [],
   "source": [
    "# Print image info for debugging\n",
    "def print_image_info(img_data, img_labels, stage):\n",
    "    print(f\"Stage: {stage}\")\n",
    "    print(f\"Number of images: {len(img_data)}\")\n",
    "    print(f\"Number of labels: {len(img_labels)}\")\n",
    "    \n",
    "    if len(img_data) > 0:\n",
    "        if isinstance(img_data[0], np.ndarray):\n",
    "            print(f\"Image shape: {img_data[0].shape}\")\n",
    "            img_data_np = np.stack(img_data)\n",
    "            print(f\"Image data min value: {np.min(img_data_np)}\")\n",
    "            print(f\"Image data max value: {np.max(img_data_np)}\")\n",
    "            print(f\"Image data mean: {np.mean(img_data_np)}\")\n",
    "            print(f\"Image data std: {np.std(img_data_np)}\")\n",
    "        else:\n",
    "            print(f\"Image size: {img_data[0].size}\")\n",
    "            print(f\"Image mode: {img_data[0].mode}\")\n",
    "    \n",
    "    print(f\"Unique labels: {set(img_labels)}\")\n"
   ]
  },
  {
   "cell_type": "code",
   "execution_count": 27,
   "metadata": {},
   "outputs": [],
   "source": [
    "# Helper function to print sample data for debugging\n",
    "def print_sample_data(images, labels, title):\n",
    "    print(f\"--- {title} ---\")\n",
    "    sample_indices = random.sample(range(len(images)), min(5, len(images)))\n",
    "    fig, axes = plt.subplots(1, len(sample_indices), figsize=(15, 5))\n",
    "    for i, ax in enumerate(axes):\n",
    "        index = sample_indices[i]\n",
    "        ax.imshow(images[index], cmap='gray')\n",
    "        ax.set_title(f\"Label: {labels[index]}\")\n",
    "        ax.axis('off')\n",
    "    plt.show()"
   ]
  },
  {
   "cell_type": "code",
   "execution_count": 30,
   "metadata": {},
   "outputs": [],
   "source": [
    "def main(data_file, model_instance, model_name, criterion, optimizer_class, param_grid, device, num_epochs, patience, checkpoint_interval, k=5, target_number_of_images=8000):\n",
    "    # Load the dataset\n",
    "    with open(data_file, 'rb') as f:\n",
    "        img_data, img_labels = pickle.load(f)\n",
    "    \n",
    "    # Print initial info\n",
    "    print_image_info(img_data, img_labels, \"After loading in main\")\n",
    "    print_sample_data(img_data, img_labels, \"Sample images after loading\")\n",
    "    \n",
    "    # Convert the entire dataset to PIL format\n",
    "    img_data_pil = convert_to_pil_format(img_data)\n",
    "\n",
    "    skf = StratifiedKFold(n_splits=k, shuffle=True, random_state=42)\n",
    "    all_fold_results = []\n",
    "\n",
    "    # Stratified K-Fold Cross-Validation\n",
    "    for fold_idx, (train_idx, test_idx) in enumerate(skf.split(img_data_pil, img_labels)):\n",
    "        train_data, train_labels = [img_data_pil[i] for i in train_idx], [img_labels[i] for i in train_idx]\n",
    "        test_data, test_labels = [img_data_pil[i] for i in test_idx], [img_labels[i] for i in test_idx]\n",
    "\n",
    "        # Balance the training dataset\n",
    "        balanced_train_data, balanced_train_labels = balance_dataset(train_data, train_labels, target_number_of_images)\n",
    "\n",
    "        # Print info after balancing\n",
    "        print_image_info(balanced_train_data, balanced_train_labels, \"After balancing\")\n",
    "        print_sample_data(balanced_train_data, balanced_train_labels, \"Sample images after balancing\")\n",
    "\n",
    "        # Split into training and validation sets\n",
    "        val_size = int(0.2 * len(balanced_train_data))\n",
    "        train_data, val_data = balanced_train_data[val_size:], balanced_train_data[:val_size]\n",
    "        train_labels, val_labels = balanced_train_labels[val_size:], balanced_train_labels[:val_size]\n",
    "\n",
    "        # Convert back to NumPy arrays for consistent processing\n",
    "        train_data = convert_to_numpy_array(train_data)\n",
    "        val_data = convert_to_numpy_array(val_data)\n",
    "        test_data = convert_to_numpy_array(test_data)\n",
    "\n",
    "        # Print info after conversion back to NumPy\n",
    "        print_image_info(train_data, train_labels, \"After conversion back to NumPy\")\n",
    "        #print_sample_data(train_data, train_labels, \"Sample images after conversion back to NumPy\")\n",
    "\n",
    "        # Create datasets\n",
    "        train_dataset = CustomDataset(train_data, train_labels)\n",
    "        val_dataset = CustomDataset(val_data, val_labels)\n",
    "        test_dataset = CustomDataset(test_data, test_labels)\n",
    "\n",
    "        # Create DataLoader\n",
    "        train_loader = DataLoader(train_dataset, batch_size=32, shuffle=True)\n",
    "        val_loader = DataLoader(val_dataset, batch_size=32, shuffle=False)\n",
    "        test_loader = DataLoader(test_dataset, batch_size=32, shuffle=False)\n",
    "\n",
    "        best_val_accuracy = 0.0\n",
    "        best_model = None\n",
    "        best_params = None\n",
    "\n",
    "        # Hyperparameter tuning\n",
    "        for params in ParameterGrid(param_grid):\n",
    "            # Create a fresh copy of the model instance for each set of parameters\n",
    "            model = copy.deepcopy(model_instance).to(device)\n",
    "            optimizer_params = {k: v for k, v in params.items() if k in ['lr', 'momentum', 'weight_decay', 'betas']}\n",
    "            optimizer = optimizer_class(model.parameters(), **optimizer_params)\n",
    "\n",
    "            # Initialize scheduler\n",
    "            scheduler_params = {k: v for k, v in params.items() if k in ['step_size', 'gamma']}\n",
    "            scheduler = StepLR(optimizer, **scheduler_params)\n",
    "\n",
    "            print(f\"Training with parameters: {params}\")\n",
    "            train_losses, train_accuracies, val_losses, val_accuracies = train_model(\n",
    "                model, f\"{model_instance.__class__.__name__}_fold_{fold_idx}\", criterion, optimizer, scheduler,\n",
    "                train_loader, val_loader, device, num_epochs, patience, checkpoint_interval\n",
    "            )\n",
    "\n",
    "            if max(val_accuracies) > best_val_accuracy:\n",
    "                best_val_accuracy = max(val_accuracies)\n",
    "                best_model = copy.deepcopy(model)\n",
    "                best_params = params\n",
    "\n",
    "        # Evaluate the best model on the test set\n",
    "        best_model.eval()\n",
    "        test_loss = 0.0\n",
    "        correct = 0\n",
    "        total = 0\n",
    "        with torch.no_grad():\n",
    "            for images, labels in test_loader:\n",
    "                images, labels = images.to(device), labels.to(device)\n",
    "                outputs = best_model(images)\n",
    "                loss = criterion(outputs, labels)\n",
    "                test_loss += loss.item()\n",
    "                _, predicted = torch.max(outputs.data, 1)\n",
    "                total += labels.size(0)\n",
    "                correct += (predicted == labels).sum().item()\n",
    "\n",
    "        test_accuracy = 100 * correct / total\n",
    "        all_fold_results.append((best_val_accuracy, test_accuracy, best_params))\n",
    "        print(f\"Fold {fold_idx + 1}: Best Validation Accuracy: {best_val_accuracy}%, Test Accuracy: {test_accuracy}%\")\n",
    "\n",
    "    # Save all fold results\n",
    "    with open(f'{model_name}_cross_validation_results.pkl', 'wb') as f:\n",
    "        pickle.dump(all_fold_results, f)\n",
    "\n",
    "    print(f\"Cross-validation results saved to '{model_name}_cross_validation_results.pkl'.\")\n"
   ]
  },
  {
   "cell_type": "markdown",
   "metadata": {},
   "source": [
    "#### Plot the performance of the training across epochs"
   ]
  },
  {
   "cell_type": "code",
   "execution_count": 22,
   "metadata": {},
   "outputs": [],
   "source": [
    "# Plot the model performance after training\n",
    "def plot_training_progress(training_results):\n",
    "  \n",
    "    \"\"\"\n",
    "    Plot training and validation accuracies across epochs for multiple models.\n",
    "\n",
    "    Args:\n",
    "    - training_results (list of tuples): List of tuples containing model names and their respective training and validation accuracies.\n",
    "      Each tuple should be in the form: (model_name, train_accuracies, val_accuracies).\n",
    "    \"\"\"\n",
    "    plt.figure(figsize=(10, 5))\n",
    "    \n",
    "    # Plot training and validation accuracies\n",
    "    for result in training_results:\n",
    "        model_name, train_accuracies, val_accuracies = result\n",
    "        epochs = range(1, len(train_accuracies) + 1)\n",
    "        plt.plot(epochs, train_accuracies, label=f'Training Accuracy - {model_name}')\n",
    "        plt.plot(epochs, val_accuracies, label=f'Validation Accuracy - {model_name}')\n",
    "    \n",
    "    plt.xlabel('Epochs')\n",
    "    plt.ylabel('Accuracy')\n",
    "    plt.title('Training and Validation Accuracy Comparison')\n",
    "    plt.legend()\n",
    "    plt.grid(True)\n",
    "    plt.show()\n",
    "    "
   ]
  },
  {
   "cell_type": "markdown",
   "metadata": {},
   "source": [
    "## Train the models"
   ]
  },
  {
   "cell_type": "markdown",
   "metadata": {},
   "source": [
    "#### Train model_33"
   ]
  },
  {
   "cell_type": "code",
   "execution_count": null,
   "metadata": {},
   "outputs": [],
   "source": [
    "if __name__ == \"__main__\":\n",
    "    data_file = \"encoded_images.pkl\"\n",
    "    model_instance = model_33\n",
    "    model_name = \"model_33\"\n",
    "    criterion = nn.CrossEntropyLoss()\n",
    "    #optimizer_class = optim.Adam\n",
    "    optimizer_class = torch.optim.Adam\n",
    "    param_grid = {\n",
    "        'lr': [0.01, 0.005, 0.001, 0.0005],\n",
    "        #'momentum': [0.9, 0.95], # For optimizers like SGD\n",
    "        'weight_decay': [0.001, 0.0005, 0.0001, 0.00005, 0.00001],\n",
    "        'betas': [(0.9, 0.999), (0.95, 0.999)],  # For optimizers like Adam\n",
    "        'step_size': [10, 20],  # Parameters for StepLR scheduler\n",
    "        'gamma': [0.1, 0.5]     # Parameters for StepLR scheduler\n",
    "    }\n",
    "    device = torch.device('cuda' if torch.cuda.is_available() else 'cpu')\n",
    "    num_epochs = 200\n",
    "    patience = 5\n",
    "    checkpoint_interval = 100\n",
    "\n",
    "    main(data_file, model_instance, model_name, criterion, optimizer_class, param_grid, device, num_epochs, patience, checkpoint_interval, k=5, target_number_of_images=8000)\n"
   ]
  },
  {
   "cell_type": "code",
   "execution_count": 32,
   "metadata": {},
   "outputs": [
    {
     "data": {
      "image/png": "[encoded data removed]",
      "text/plain": [
       "<Figure size 1000x500 with 1 Axes>"
      ]
     },
     "metadata": {},
     "output_type": "display_data"
    }
   ],
   "source": [
    "model_name =\"Model_33\"\n",
    "\n",
    "# Load the accuracies from the file\n",
    "with open(f\"{model_name}_accuracies.pkl\", \"rb\") as f:\n",
    "    model_name, train_accuracies, val_accuracies = pickle.load(f)\n",
    "\n",
    "# Define training results\n",
    "training_results = [\n",
    "    (model_name, train_accuracies, val_accuracies)\n",
    "    # Add more models if needed\n",
    "]\n",
    "\n",
    "# Plot the training progress\n",
    "plot_training_progress(training_results)"
   ]
  },
  {
   "cell_type": "markdown",
   "metadata": {},
   "source": [
    "#### Model 39"
   ]
  },
  {
   "cell_type": "code",
   "execution_count": null,
   "metadata": {},
   "outputs": [],
   "source": [
    "if __name__ == \"__main__\":\n",
    "    data_file = \"encoded_images.pkl\"\n",
    "    model_instance = model_33\n",
    "    model_name = \"model_39\"\n",
    "    criterion = nn.CrossEntropyLoss()\n",
    "    #optimizer_class = optim.Adam\n",
    "    optimizer_class = torch.optim.Adam\n",
    "    param_grid = {\n",
    "        'lr': [0.01, 0.005, 0.001, 0.0005],\n",
    "        #'momentum': [0.9, 0.95], # For optimizers like SGD\n",
    "        'weight_decay': [0.001, 0.0005, 0.0001, 0.00005, 0.00001],\n",
    "        'betas': [(0.9, 0.999), (0.95, 0.999)],  # For optimizers like Adam\n",
    "        'step_size': [10],  # Parameters for StepLR scheduler\n",
    "        'gamma': [0.1, 0.5]     # Parameters for StepLR scheduler\n",
    "    }\n",
    "    device = torch.device('cuda' if torch.cuda.is_available() else 'cpu')\n",
    "    num_epochs = 200\n",
    "    patience = 3\n",
    "    checkpoint_interval = 100\n",
    "\n",
    "    main(data_file, model_instance, model_name, criterion, optimizer_class, param_grid, device, num_epochs, patience, checkpoint_interval, k=5, target_number_of_images=8000)"
   ]
  },
  {
   "cell_type": "code",
   "execution_count": 37,
   "metadata": {},
   "outputs": [
    {
     "data": {
      "image/png": "[encoded data removed]",
      "text/plain": [
       "<Figure size 1000x500 with 1 Axes>"
      ]
     },
     "metadata": {},
     "output_type": "display_data"
    }
   ],
   "source": [
    "model_name =\"Model_39\"\n",
    "\n",
    "# Load the accuracies from the file\n",
    "with open(f\"{model_name}_accuracies.pkl\", \"rb\") as f:\n",
    "    model_name, train_accuracies, val_accuracies = pickle.load(f)\n",
    "\n",
    "# Define training results\n",
    "training_results = [\n",
    "    (model_name, train_accuracies, val_accuracies)\n",
    "    # Add more models if needed\n",
    "]\n",
    "\n",
    "# Plot the training progress\n",
    "plot_training_progress(training_results)"
   ]
  },
  {
   "cell_type": "markdown",
   "metadata": {},
   "source": [
    "### Table with the results of the different models"
   ]
  },
  {
   "cell_type": "markdown",
   "metadata": {},
   "source": [
    "Before making our table we want to inspect the structure of the pickle files where we saved our accuracies. In this way we will know how to load the data."
   ]
  },
  {
   "cell_type": "code",
   "execution_count": 23,
   "metadata": {},
   "outputs": [
    {
     "name": "stdout",
     "output_type": "stream",
     "text": [
      "Data from Model_39_accuracies.pkl:\n",
      "('Model_39', [22.883333333333333, 24.47, 26.143333333333334, 27.42, 28.203333333333333, 29.033333333333335, 29.965, 31.211666666666666, 31.78, 32.541666666666664, 33.45666666666666, 33.625, 34.065, 34.803333333333335, 35.105, 34.93833333333333, 35.25, 35.71333333333333, 36.315, 37.031666666666666, 37.53, 37.28333333333333, 37.083333333333336, 37.10166666666667, 37.89666666666667, 38.13166666666667, 38.175, 38.68333333333333, 38.693333333333335, 38.6, 39.516666666666666, 39.85666666666667, 39.51166666666666, 40.105, 40.233333333333334, 40.56333333333333, 40.73, 41.12, 41.151666666666664, 40.575, 41.065, 41.29, 41.91833333333334], [27.344992050874403, 27.440381558028616, 27.82193958664547, 30.476947535771064, 31.12877583465819, 32.17806041335453, 32.829888712241655, 34.22893481717011, 35.1033386327504, 36.550079491255964, 36.37519872813991, 36.15262321144674, 37.88553259141494, 38.426073131955484, 38.23529411764706, 37.58346581875993, 38.7758346581876, 38.93481717011129, 38.18759936406995, 40.7154213036566, 40.445151033386324, 40.62003179650238, 40.06359300476947, 40.90620031796502, 41.63751987281399, 41.92368839427663, 41.76470588235294, 42.1939586645469, 41.54213036565978, 42.79809220985692, 42.87758346581876, 42.527821939586644, 43.465818759936404, 43.9268680445151, 44.03815580286169, 43.62480127186009, 44.5945945945946, 44.912559618441975, 44.3879173290938, 42.63910969793323, 42.38473767885532, 44.88076311605723, 44.769475357710654])\n",
      "Data from Model 39_test_results.pkl:\n",
      "{'test_loss': 1.386819924369003, 'test_accuracy': 44.897472579876016}\n"
     ]
    }
   ],
   "source": [
    "# Function to inspect the structure of the pickle file\n",
    "def inspect_pickle_file(pickle_file):\n",
    "    with open(pickle_file, 'rb') as f:\n",
    "        data = pickle.load(f)\n",
    "    print(f\"Data from {pickle_file}:\")\n",
    "    print(data)\n",
    "    return data\n",
    "\n",
    "# Inspect one of the pickle files with the accuracies\n",
    "sample_file_1 = 'Model_39_accuracies.pkl'\n",
    "sample_file_2 = 'Model 39_test_results.pkl'\n",
    "data_1 = inspect_pickle_file(sample_file_1)\n",
    "data_2 = inspect_pickle_file(sample_file_2)"
   ]
  },
  {
   "cell_type": "markdown",
   "metadata": {},
   "source": [
    "#### Load the data from the pickle files"
   ]
  },
  {
   "cell_type": "code",
   "execution_count": 38,
   "metadata": {},
   "outputs": [
    {
     "name": "stdout",
     "output_type": "stream",
     "text": [
      "Training Accuracies: [51.303333333333335, 41.91833333333334]\n",
      "Validation Accuracies: [54.213036565977745, 44.912559618441975]\n",
      "Test Accuracies: [54.53028135431569, 44.897472579876016]\n",
      "Test Losses: [1.1609775080825344, 1.386819924369003]\n"
     ]
    }
   ],
   "source": [
    "# Function to load pickle file and get the highest accuracy\n",
    "def get_best_accuracies(pickle_file):\n",
    "    with open(pickle_file, 'rb') as f:\n",
    "        data = pickle.load(f)\n",
    "    # Data is a tuple (model_name, training_accuracies, validation_accuracies)\n",
    "    model_name, training_accuracies, validation_accuracies = data\n",
    "    best_training_accuracy = max(training_accuracies)\n",
    "    best_validation_accuracy = max(validation_accuracies)\n",
    "    return best_training_accuracy, best_validation_accuracy\n",
    "\n",
    "# Function to load pickle file and get the test accuracy and test loss\n",
    "def get_test_results(pickle_file):\n",
    "    with open(pickle_file, 'rb') as f:\n",
    "        data = pickle.load(f)\n",
    "    # Data is a dictionary with 'test_accuracy' and 'test_losses' keys\n",
    "    test_accuracy = data['test_accuracy']\n",
    "    test_loss = data['test_loss']\n",
    "    return test_accuracy, test_loss\n",
    "\n",
    "# Load pickle files for each model\n",
    "val_train_results = [\n",
    "    'Model_33_accuracies.pkl',\n",
    "    'Model_39_accuracies.pkl'\n",
    "\n",
    "]\n",
    "\n",
    "# Load test results for each model\n",
    "test_results = [\n",
    "    'Model 33_test_results.pkl',\n",
    "    'Model 39_test_results.pkl'\n",
    "]\n",
    "\n",
    "# Load accuracies and test losses for each model\n",
    "training_accuracies = []\n",
    "validation_accuracies = []\n",
    "test_accuracies = []\n",
    "test_losses = []\n",
    "\n",
    "for i, file in enumerate(val_train_results):\n",
    "    train_acc, val_acc = get_best_accuracies(file)\n",
    "    training_accuracies.append(train_acc)\n",
    "    validation_accuracies.append(val_acc)\n",
    "    test_acc, test_loss = get_test_results(test_results[i])\n",
    "    test_accuracies.append(test_acc)\n",
    "    test_losses.append(test_loss)\n",
    "\n",
    "# Model names or identifiers (we are adding a +9 because our models start from #10)\n",
    "model_names = [f\"Model {9+i+1}\" for i in range(len(val_train_results))]\n",
    "\n",
    "# Print the accuracies and test losses\n",
    "print(\"Training Accuracies:\", training_accuracies)\n",
    "print(\"Validation Accuracies:\", validation_accuracies)\n",
    "print(\"Test Accuracies:\", test_accuracies)\n",
    "print(\"Test Losses:\", test_losses)\n",
    "\n"
   ]
  },
  {
   "cell_type": "markdown",
   "metadata": {},
   "source": [
    "#### Print the table"
   ]
  },
  {
   "cell_type": "code",
   "execution_count": 39,
   "metadata": {},
   "outputs": [
    {
     "name": "stdout",
     "output_type": "stream",
     "text": [
      "      Model  Training Accuracy  Validation Accuracy  Test Accuracy  Test Loss\n",
      "0  Model 10          51.303333            54.213037      54.530281   1.160978\n",
      "1  Model 11          41.918333            44.912560      44.897473   1.386820\n"
     ]
    }
   ],
   "source": [
    "# Creating the DataFrame\n",
    "data = {\n",
    "    \"Model\": model_names,\n",
    "    \"Training Accuracy\": training_accuracies,\n",
    "    \"Validation Accuracy\": validation_accuracies,\n",
    "    \"Test Accuracy\": test_accuracies,\n",
    "    \"Test Loss\": test_losses\n",
    "}\n",
    "\n",
    "df = pd.DataFrame(data)\n",
    "\n",
    "# Display the DataFrame\n",
    "print(df)"
   ]
  },
  {
   "cell_type": "markdown",
   "metadata": {},
   "source": [
    "### Confusion matrix of the best models"
   ]
  },
  {
   "cell_type": "markdown",
   "metadata": {},
   "source": [
    "#### Model 33"
   ]
  },
  {
   "cell_type": "code",
   "execution_count": 26,
   "metadata": {},
   "outputs": [],
   "source": [
    "class CNNModel(nn.Module):\n",
    "    def __init__(self):\n",
    "        super(CNNModel, self).__init__()\n",
    "        \n",
    "        # Define the layers\n",
    "        self.conv1 = nn.Conv2d(in_channels=1, out_channels=64, kernel_size=3, padding=1)\n",
    "        self.bn1 = nn.BatchNorm2d(64)\n",
    "        \n",
    "        self.conv2 = nn.Conv2d(in_channels=64, out_channels=64, kernel_size=3, padding=1)\n",
    "        self.bn2 = nn.BatchNorm2d(64)\n",
    "        \n",
    "        self.pool = nn.MaxPool2d(kernel_size=2, stride=2)\n",
    "        self.dropout1 = nn.Dropout(p=0.5)\n",
    "        \n",
    "        self.conv3 = nn.Conv2d(in_channels=64, out_channels=128, kernel_size=3, padding=1)\n",
    "        self.bn3 = nn.BatchNorm2d(128)\n",
    "        \n",
    "        self.conv4 = nn.Conv2d(in_channels=128, out_channels=128, kernel_size=3, padding=1)\n",
    "        self.bn4 = nn.BatchNorm2d(128)\n",
    "        self.dropout2 = nn.Dropout(p=0.5)\n",
    "        \n",
    "        self.conv5 = nn.Conv2d(in_channels=128, out_channels=256, kernel_size=3, padding=1)\n",
    "        self.bn5 = nn.BatchNorm2d(256)\n",
    "        \n",
    "        self.conv6 = nn.Conv2d(in_channels=256, out_channels=256, kernel_size=3, padding=1)\n",
    "        self.bn6 = nn.BatchNorm2d(256)\n",
    "        self.dropout3 = nn.Dropout(p=0.5)\n",
    "        \n",
    "        self.fc1 = nn.Linear(256 * 6 * 6, 128)\n",
    "        self.bn7 = nn.BatchNorm1d(128)\n",
    "        self.dropout4 = nn.Dropout(p=0.5)\n",
    "        \n",
    "        self.out = nn.Linear(128, 6)  # Change the number of output channels to 8\n",
    "        \n",
    "    def forward(self, x):\n",
    "        x = F.relu(self.bn1(self.conv1(x)))\n",
    "        x = F.relu(self.bn2(self.conv2(x)))\n",
    "        x = self.pool(x)\n",
    "        x = self.dropout1(x)\n",
    "        \n",
    "        x = F.relu(self.bn3(self.conv3(x)))\n",
    "        x = F.relu(self.bn4(self.conv4(x)))\n",
    "        x = self.pool(x)\n",
    "        x = self.dropout2(x)\n",
    "        \n",
    "        x = F.relu(self.bn5(self.conv5(x)))\n",
    "        x = F.relu(self.bn6(self.conv6(x)))\n",
    "        x = self.pool(x)\n",
    "        x = self.dropout3(x)\n",
    "        \n",
    "        x = x.view(x.size(0), -1)  # Flatten the tensor\n",
    "        x = F.relu(self.bn7(self.fc1(x)))\n",
    "        x = self.dropout4(x)\n",
    "        x = self.out(x)\n",
    "        \n",
    "        return x"
   ]
  },
  {
   "cell_type": "code",
   "execution_count": 27,
   "metadata": {},
   "outputs": [
    {
     "data": {
      "text/plain": [
       "CNNModel(\n",
       "  (conv1): Conv2d(1, 64, kernel_size=(3, 3), stride=(1, 1), padding=(1, 1))\n",
       "  (bn1): BatchNorm2d(64, eps=1e-05, momentum=0.1, affine=True, track_running_stats=True)\n",
       "  (conv2): Conv2d(64, 64, kernel_size=(3, 3), stride=(1, 1), padding=(1, 1))\n",
       "  (bn2): BatchNorm2d(64, eps=1e-05, momentum=0.1, affine=True, track_running_stats=True)\n",
       "  (pool): MaxPool2d(kernel_size=2, stride=2, padding=0, dilation=1, ceil_mode=False)\n",
       "  (dropout1): Dropout(p=0.5, inplace=False)\n",
       "  (conv3): Conv2d(64, 128, kernel_size=(3, 3), stride=(1, 1), padding=(1, 1))\n",
       "  (bn3): BatchNorm2d(128, eps=1e-05, momentum=0.1, affine=True, track_running_stats=True)\n",
       "  (conv4): Conv2d(128, 128, kernel_size=(3, 3), stride=(1, 1), padding=(1, 1))\n",
       "  (bn4): BatchNorm2d(128, eps=1e-05, momentum=0.1, affine=True, track_running_stats=True)\n",
       "  (dropout2): Dropout(p=0.5, inplace=False)\n",
       "  (conv5): Conv2d(128, 256, kernel_size=(3, 3), stride=(1, 1), padding=(1, 1))\n",
       "  (bn5): BatchNorm2d(256, eps=1e-05, momentum=0.1, affine=True, track_running_stats=True)\n",
       "  (conv6): Conv2d(256, 256, kernel_size=(3, 3), stride=(1, 1), padding=(1, 1))\n",
       "  (bn6): BatchNorm2d(256, eps=1e-05, momentum=0.1, affine=True, track_running_stats=True)\n",
       "  (dropout3): Dropout(p=0.5, inplace=False)\n",
       "  (fc1): Linear(in_features=9216, out_features=128, bias=True)\n",
       "  (bn7): BatchNorm1d(128, eps=1e-05, momentum=0.1, affine=True, track_running_stats=True)\n",
       "  (dropout4): Dropout(p=0.5, inplace=False)\n",
       "  (out): Linear(in_features=128, out_features=6, bias=True)\n",
       ")"
      ]
     },
     "execution_count": 27,
     "metadata": {},
     "output_type": "execute_result"
    }
   ],
   "source": [
    "# Load the best model weights\n",
    "model_path = 'Model_33_best_model.pth'\n",
    "model_33 = CNNModel()\n",
    "model_33.load_state_dict(torch.load(model_path))\n",
    "model_33.eval()"
   ]
  },
  {
   "cell_type": "code",
   "execution_count": 28,
   "metadata": {},
   "outputs": [
    {
     "name": "stdout",
     "output_type": "stream",
     "text": [
      "cuda\n",
      "----------------------------------------------------------------\n",
      "        Layer (type)               Output Shape         Param #\n",
      "================================================================\n",
      "            Conv2d-1            [1, 64, 48, 48]             640\n",
      "       BatchNorm2d-2            [1, 64, 48, 48]             128\n",
      "            Conv2d-3            [1, 64, 48, 48]          36,928\n",
      "       BatchNorm2d-4            [1, 64, 48, 48]             128\n",
      "         MaxPool2d-5            [1, 64, 24, 24]               0\n",
      "           Dropout-6            [1, 64, 24, 24]               0\n",
      "            Conv2d-7           [1, 128, 24, 24]          73,856\n",
      "       BatchNorm2d-8           [1, 128, 24, 24]             256\n",
      "            Conv2d-9           [1, 128, 24, 24]         147,584\n",
      "      BatchNorm2d-10           [1, 128, 24, 24]             256\n",
      "        MaxPool2d-11           [1, 128, 12, 12]               0\n",
      "          Dropout-12           [1, 128, 12, 12]               0\n",
      "           Conv2d-13           [1, 256, 12, 12]         295,168\n",
      "      BatchNorm2d-14           [1, 256, 12, 12]             512\n",
      "           Conv2d-15           [1, 256, 12, 12]         590,080\n",
      "      BatchNorm2d-16           [1, 256, 12, 12]             512\n",
      "        MaxPool2d-17             [1, 256, 6, 6]               0\n",
      "          Dropout-18             [1, 256, 6, 6]               0\n",
      "           Linear-19                   [1, 128]       1,179,776\n",
      "      BatchNorm1d-20                   [1, 128]             256\n",
      "          Dropout-21                   [1, 128]               0\n",
      "           Linear-22                     [1, 6]             774\n",
      "================================================================\n",
      "Total params: 2,326,854\n",
      "Trainable params: 2,326,854\n",
      "Non-trainable params: 0\n",
      "----------------------------------------------------------------\n",
      "Input size (MB): 0.01\n",
      "Forward/backward pass size (MB): 8.86\n",
      "Params size (MB): 8.88\n",
      "Estimated Total Size (MB): 17.75\n",
      "----------------------------------------------------------------\n"
     ]
    }
   ],
   "source": [
    "# Select between 'cpu' or 'cuda' to access GPU\n",
    "device = 'cuda' if torch.cuda.is_available() else 'cpu'\n",
    "print(device)\n",
    "\n",
    "# Move the model to the selected device\n",
    "model_33.to(device)\n",
    "\n",
    "# Summarize the model\n",
    "summary(model_33, input_size=(1, 48, 48), batch_size=1, device=device)"
   ]
  },
  {
   "cell_type": "code",
   "execution_count": 31,
   "metadata": {},
   "outputs": [],
   "source": [
    "true_labels = []\n",
    "predicted_labels = []\n",
    "\n",
    "#Re-define val_loader\n",
    "val_loader = DataLoader(val_tensors, batch_size=32, shuffle=False)\n",
    "\n",
    "with torch.no_grad():\n",
    "    for images, labels in val_loader:\n",
    "        images, labels = images.to(device), labels.to(device)\n",
    "        outputs = model_33(images)\n",
    "        _, preds = torch.max(outputs, 1)\n",
    "        true_labels.extend(labels.cpu().numpy())  # Move to CPU before converting to numpy\n",
    "        predicted_labels.extend(preds.cpu().numpy())  # Move to CPU before converting to numpy\n",
    "\n",
    "true_labels = np.array(true_labels)\n",
    "predicted_labels = np.array(predicted_labels)\n"
   ]
  },
  {
   "cell_type": "code",
   "execution_count": 33,
   "metadata": {},
   "outputs": [
    {
     "data": {
      "image/png": "[encoded data removed]",
      "text/plain": [
       "<Figure size 800x600 with 2 Axes>"
      ]
     },
     "metadata": {},
     "output_type": "display_data"
    }
   ],
   "source": [
    "#Specify the model (for the title)\n",
    "model_name = \"Model 33\"\n",
    "\n",
    "# Label mapping\n",
    "label_mapping = {\n",
    "    0: 'Anger',\n",
    "    1: 'Fear',\n",
    "    2: 'Happiness',\n",
    "    3: 'Neutral',\n",
    "    4: 'Sadness',\n",
    "    5: 'Surprise'\n",
    "}\n",
    "\n",
    "# Compute confusion matrix\n",
    "cm = confusion_matrix(true_labels, predicted_labels)\n",
    "plt.figure(figsize=(8, 6))\n",
    "heatmap = sns.heatmap(cm, annot=True, fmt='d', cmap='Blues', xticklabels=label_mapping.values(), yticklabels=label_mapping.values())\n",
    "\n",
    "plt.title(f'Confusion Matrix for {model_name}')\n",
    "plt.xlabel('Predicted Labels')\n",
    "plt.ylabel('True Labels')\n",
    "\n",
    "#Get the current Axes object from the plot\n",
    "ax = plt.gca()\n",
    "\n",
    "# Create a colorbar based on the mappable (heatmap)\n",
    "cbar = ax.collections[0].colorbar\n",
    "cbar.set_label('Counts')\n",
    "\n",
    "# Add legend\n",
    "plt.legend(label_mapping.values(), loc='upper center', bbox_to_anchor=(1.2, 0.8), shadow=True, ncol=1)\n",
    "\n",
    "plt.show()"
   ]
  },
  {
   "cell_type": "markdown",
   "metadata": {},
   "source": [
    "It looks like the model is having problem in identifyng fear, especially it missclissifies fear for anger, happiness, neutrality, and especially sadness. Mistaking fear for happiness shouldn't be happening, since the two emotions have very different representations so the model has a huge margin of improvement."
   ]
  },
  {
   "cell_type": "markdown",
   "metadata": {},
   "source": [
    "## Conclusions"
   ]
  },
  {
   "cell_type": "markdown",
   "metadata": {},
   "source": [
    "### Observations"
   ]
  },
  {
   "cell_type": "markdown",
   "metadata": {},
   "source": [
    "Using both grid seatch and stratified K fold validation made the training too long, especially for the resources at our disposal. Therefore, we should at least restrict the range of parameters for the search or consider using only one of the two approach. They affect different parts of the training and they are not mutually exclusive, but they both add training time, especially grid search, which is quite computationally expensive.\n",
    "\n",
    "The models resulted a bit unspatble, and the results are better in the [previous notebook](https://www.kaggle.com/code/gabrielenoaro/emotion-classification-from-faces-cnn-part-3). An alternative to what we have done could have been applying grid search to the previous training, without stratified K-fold, to finetune the hyperparameters without altering the nature of the dataset."
   ]
  },
  {
   "cell_type": "markdown",
   "metadata": {},
   "source": [
    "### Limitations with the data"
   ]
  },
  {
   "cell_type": "markdown",
   "metadata": {},
   "source": [
    "The data is one of the  major bottlenecks in this experiemnt. As said in the first notebook of the series, if there are missclassified images in the original data, that may lead to errors in the training. Also, mixed emotions (e.g., surprise + fear, surprise + happiness) can confuse the model as well. Also the fact that some emotions have similar traits made the learning process more difficult (e.g., Neutral Vs Sadness), and it would be useful to use this generic model as a base model to train more specialized models aimed at detecting the difference between such emotions (through the identification of microexpressions).\n",
    "\n",
    "Another challenge was that the majority of images were images portraing actors interpreting an emotion. While it looks like the majortiy of good actors did a good job in displaying the emotion, some representation may not have looked authentic, with incomplete and to genuine microexpressions. To reduce the risk of encountering these two challenges we could access to bigger datasets (to increasing the chance of good samples outnumbering bad samples), and higher quality more controlled datasets. A further study could also take the output model from this study and use it as a pre-trained model to classify genuine Vs faked emotions from pictures.\n",
    "\n",
    "When loading the data we removed duplicates, mixed data from different sources (increasing the variance in gender, etnic diversity, angles, and styles), and augmented data to reduce overfitting and balance the classes, so each class got the same amount of items. However, we did not aumented the images from the \"Happiness\" folder, because it had the most items, so further study could do some augmentation there too to reduce overfitting (still making sure that each label has the same number of items).\n",
    "\n",
    "As future steps we should try adding more images through data augmentation, and test if that helps in reducing overfitting. We could also experiment removing neutrality, our most mistaken class (mistaken for sadness and viceversa), and see how accuracy dramatically increases. However, by removing a class, we would also drastically change the goal of our models. Also, by removing neutrality, if the model was to be applied in a life scenarion, it would start mistake neutral expression for sadness.\n",
    "\n",
    "Last but not least, we could not use transfer learning with the models present in the PyTorch Hub, because the images in some of the sets were to small: 48X48 px when the required minimum was 224X224 images. Moreover, the small side of images may have also caused the more complex models to underfit the data. In future experiemnt we should seek images that are at least 224X224 px of size."
   ]
  },
  {
   "cell_type": "markdown",
   "metadata": {},
   "source": [
    "### Next steps"
   ]
  },
  {
   "cell_type": "markdown",
   "metadata": {},
   "source": [
    "Next we should review the code again to see some opportunities for improvement. For example reducing the range of hyperparameters in grid search and closing the training loop. Indeed, adding both grid search and stratified K-fold validation added too much computational strain during the training of the model, even if utilizing CUDA with GPUs, especially because we used also thousands of images to train the models. We could also try with data of higher quality, and images that are at least 224X224 (tweaking our models) to add also a pre-trained model from the PyTorch Hub and benefit from transfer-learning. For example, if transfer learning could help the model recognize faces easily, the new model could better focus on specializing on facial microexpressions."
   ]
  }
 ],
 "metadata": {
  "kernelspec": {
   "display_name": "Python 3",
   "language": "python",
   "name": "python3"
  },
  "language_info": {
   "codemirror_mode": {
    "name": "ipython",
    "version": 3
   },
   "file_extension": ".py",
   "mimetype": "text/x-python",
   "name": "python",
   "nbconvert_exporter": "python",
   "pygments_lexer": "ipython3",
   "version": "3.11.3"
  }
 },
 "nbformat": 4,
 "nbformat_minor": 2
}
