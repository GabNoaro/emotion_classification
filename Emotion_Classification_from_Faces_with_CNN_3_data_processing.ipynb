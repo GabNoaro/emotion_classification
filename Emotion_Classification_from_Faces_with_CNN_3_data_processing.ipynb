{
 "cells": [
  {
   "cell_type": "markdown",
   "metadata": {},
   "source": [
    "# Emotion Classification from Faces with CNN & PyTorch - Part 3 - Processing"
   ]
  },
  {
   "cell_type": "markdown",
   "metadata": {},
   "source": [
    "In this series we will continue builind a model that will guess the emotion of a person from a facial expression. We will add techniques such as batch normalization and hyperparameters tuning, and add layers to make more advance models compared to part one.\n",
    "\n",
    "The model will be trained only with the seven basic emtotions identified by Ekman: anger, disgust, contempt, happiness, sadness, fear, surprise.\n",
    "\n",
    "Moreover, the model will look only at photos of real people (no cartoon or generated images), to capture microexpressions, which are crucual to give high accuracy to such a model. In fact, humans heavily rely on microexpressions to distinguish between different emotions in the arc of milliseconds (e.g., fear from surprise, disgust from contempt), and taking those out of the equations would mean removing key elememnts. A challenge might be increasing the quality of the images used for training, then burdening the computational power with an heavier dataset. Feature engineering might be key in selecting the parts of the images that are the most relevant, eliminating everything else.\n",
    "\n",
    "Finally we will build different Convolutional Neural Networks and evaluate the different models. Since the whole process will take a significant amount of code, the work will be divided into different notebooks linking to each other."
   ]
  },
  {
   "cell_type": "markdown",
   "metadata": {},
   "source": [
    "The first notebook focused in loading, cleaning, and augmenting the data. Whereas the first part of the modelling testes different combinations of models and make observations.\n",
    "- [Emotion Recognition from Faces with CNN - Exploratory Data Analysis (EDA)](https://www.kaggle.com/code/gabrielenoaro/emotion-recognition-from-faces-with-cnn-eda)\n",
    "- [Emotion_Classification_from_Faces_with_CNN_Part_1](https://www.kaggle.com/code/gabrielenoaro/emotion-recognition-from-faces-with-cnn-pytorch-1)\n",
    "- [Emotion_Classification_from_Faces_with_CNN_Part_2](https://www.kaggle.com/code/gabrielenoaro/emotion-classification-from-faces-with-cnn-part-2)"
   ]
  },
  {
   "cell_type": "markdown",
   "metadata": {},
   "source": [
    "You can find the part relative to data preprocessing here:\n",
    "- [Emotion Classification from Faces CNN 3 Models](https://www.kaggle.com/code/gabrielenoaro/emotion-classification-from-faces-cnn-3-models)"
   ]
  },
  {
   "cell_type": "markdown",
   "metadata": {},
   "source": [
    "Since we have already loaded, cleaned, and inspected the data in our previous notebook [Emotion Recognition from Faces with CNN - Exploratory Data Analysis (EDA)](https://www.kaggle.com/code/gabrielenoaro/emotion-recognition-from-faces-with-cnn-eda), we will jump directly to data preprocessing.\n",
    "\n",
    "In this notebook we want to to eliminate heavily underrepresented classes, perform random data reduction on overepresented classes, and do some data augmentation on the training set.\n",
    "\n",
    "This will help us solve the data leakage and overfitting issues we encountered in  ([Emotion_Classification_from_Faces_with_CNN_Part_2](https://www.kaggle.com/code/gabrielenoaro/emotion-classification-from-faces-with-cnn-part-2))."
   ]
  },
  {
   "cell_type": "markdown",
   "metadata": {},
   "source": [
    "## Table of contents"
   ]
  },
  {
   "cell_type": "markdown",
   "metadata": {},
   "source": [
    "1. [Load the libraries](#load-the-data)\n",
    "2. [Helper functions for data processing](#helper-functions-for-data-proccessing)\n",
    "3. [Exploratory Data Analysis](#exploratory-data-analysis)\n",
    "4. [Data preprocessing, splitting, and augmentation](#data-preprocessing-splitting-and-augmentation)\n",
    "\n",
    "3. [Split the data](#split-the-data)\n",
    "4. [Build the models](#build-the-models)    \n",
    "5. [Train and test the models](#train-and-test-the-models)\n",
    "\n",
    "    5.1 [Define the hyperparameters](#define-the-hyperparameters)\n",
    "\n",
    "    5.2 [Helper functions for training, testing, and plotting](#helper-functions-for-training-testing-and-plotting)\n",
    "    \n",
    "    5.3 [Train the models](#train-the-models)\n",
    "    \n",
    "    5.4 [Test the models](#test-the-models)\n",
    "\n",
    "    5.5 [Table with the results of the different models](#table-with-the-results-of-the-different-models)\n",
    "\n",
    "    5.6 [Confusion matrix of the best model](#confusion-matrix-of-the-best-model)\n",
    "\n",
    "6. [Conclusions](#conclusions)\n",
    "\n",
    "    6.1 [Observations](#observations)\n",
    "\n",
    "    6.2 [Lessons learned](#lessons-learned)\n",
    "\n",
    "    6.3 [Limitations with the data](#limitations-with-the-data)\n",
    "\n",
    "    6.4 [Next steps](#next-steps)"
   ]
  },
  {
   "cell_type": "markdown",
   "metadata": {},
   "source": [
    "## Load the libraries"
   ]
  },
  {
   "cell_type": "code",
   "execution_count": 1,
   "metadata": {},
   "outputs": [],
   "source": [
    "import pandas as pd\n",
    "import numpy as np\n",
    "\n",
    "import seaborn as sns\n",
    "import matplotlib.pyplot as plt\n",
    "import matplotlib.image as mpimg\n",
    "\n",
    "import pickle\n",
    "import random\n",
    "from hashlib import md5\n",
    "import matplotlib.pyplot as plt\n",
    "import copy\n",
    "\n",
    "from scipy.stats import uniform\n",
    "from sklearn.metrics import confusion_matrix, ConfusionMatrixDisplay\n",
    "from sklearn.model_selection import train_test_split, ParameterGrid, ParameterSampler\n",
    "\n",
    "import os,cv2\n",
    "from PIL import Image\n",
    "from collections import Counter\n",
    "\n",
    "import torch\n",
    "import torch.nn as nn\n",
    "import torch.nn.functional as F\n",
    "import torch.optim as optim\n",
    "from torchvision import transforms\n",
    "from torch.utils.data import TensorDataset, DataLoader, random_split\n",
    "from torchsummary import summary\n"
   ]
  },
  {
   "cell_type": "markdown",
   "metadata": {},
   "source": [
    "We want also to set a random seed to maintain consistency across our experiments."
   ]
  },
  {
   "cell_type": "code",
   "execution_count": 2,
   "metadata": {},
   "outputs": [],
   "source": [
    "#Cover all the potential cases with the random seed\n",
    "def set_random_seed(seed):\n",
    "    torch.manual_seed(seed)\n",
    "    torch.cuda.manual_seed(seed)\n",
    "    torch.cuda.manual_seed_all(seed)  # if you are using multi-GPU.\n",
    "    np.random.seed(seed)\n",
    "    random.seed(seed)\n",
    "    torch.backends.cudnn.deterministic = True  # Ensure deterministic behavior.\n",
    "    torch.backends.cudnn.benchmark = False\n",
    "\n",
    "set_random_seed(42)"
   ]
  },
  {
   "cell_type": "markdown",
   "metadata": {},
   "source": [
    "## Helper functions for data prerocessing"
   ]
  },
  {
   "cell_type": "markdown",
   "metadata": {},
   "source": [
    "#### Function for debugging"
   ]
  },
  {
   "cell_type": "code",
   "execution_count": 3,
   "metadata": {},
   "outputs": [],
   "source": [
    "def print_image_info(images, labels, stage):\n",
    "    unique_labels = set(labels)\n",
    "    print(f\"Stage: {stage}\")\n",
    "    print(f\"Number of images: {len(images)}\")\n",
    "    print(f\"Number of labels: {len(labels)}\")\n",
    "    print(f\"Image shape: {images[0].shape}\")\n",
    "    print(f\"Image dtype: {images[0].dtype}\")\n",
    "    print(f\"Unique labels: {unique_labels}\")\n",
    "    for label in unique_labels:\n",
    "        label_images = [img for img, lbl in zip(images, labels) if lbl == label]\n",
    "        if label_images:\n",
    "            print(f\"Class: {label}, Image shape: {label_images[0].shape}, dtype: {label_images[0].dtype}, min: {label_images[0].min()}, max: {label_images[0].max()}\")"
   ]
  },
  {
   "cell_type": "markdown",
   "metadata": {},
   "source": [
    "#### Perform random data reduction on overrepresented classes"
   ]
  },
  {
   "cell_type": "code",
   "execution_count": 4,
   "metadata": {},
   "outputs": [],
   "source": [
    "def reduce_majority_classes(input_pickle_file, output_pickle_file, max_samples_per_class):\n",
    "    with open(input_pickle_file, 'rb') as f:\n",
    "        img_data, img_labels = pickle.load(f)\n",
    "\n",
    "    print_image_info(img_data, img_labels, \"After loading in reduce_majority_classes\")\n",
    "\n",
    "    reduced_data = []\n",
    "    reduced_labels = []\n",
    "    label_counts = Counter(img_labels)\n",
    "\n",
    "    for label in np.unique(img_labels):\n",
    "        label_indices = np.where(img_labels == label)[0]\n",
    "        if label_counts[label] > max_samples_per_class:\n",
    "            label_indices = np.random.choice(label_indices, max_samples_per_class, replace=False)\n",
    "\n",
    "        reduced_data.extend(img_data[label_indices])\n",
    "        reduced_labels.extend(img_labels[label_indices])\n",
    "\n",
    "    reduced_data = np.array(reduced_data)\n",
    "    reduced_labels = np.array(reduced_labels)\n",
    "\n",
    "    print_image_info(reduced_data, reduced_labels, \"Before saving in reduce_majority_classes\")\n",
    "\n",
    "    with open(output_pickle_file, 'wb') as f:\n",
    "        pickle.dump((reduced_data, reduced_labels), f)\n",
    "\n",
    "\n"
   ]
  },
  {
   "cell_type": "markdown",
   "metadata": {},
   "source": [
    "#### Preprocess and transform the data"
   ]
  },
  {
   "cell_type": "code",
   "execution_count": 5,
   "metadata": {},
   "outputs": [],
   "source": [
    "#Preprocess data\n",
    "def load_and_preprocess_images(input_pickle_file, output_pickle_file):\n",
    "    with open(input_pickle_file, 'rb') as f:\n",
    "        img_data, img_labels = pickle.load(f)\n",
    "    \n",
    "    # Convert images to float32\n",
    "    processed_images = [img.astype('float32') for img in img_data]\n",
    "    processed_images = np.array(processed_images)\n",
    "    \n",
    "    print_image_info(processed_images, img_labels, \"Preprocessed\")\n",
    "\n",
    "    with open(output_pickle_file, 'wb') as f:\n",
    "        pickle.dump((processed_images, img_labels), f)"
   ]
  },
  {
   "cell_type": "markdown",
   "metadata": {},
   "source": [
    "#### Encode the labels"
   ]
  },
  {
   "cell_type": "code",
   "execution_count": 6,
   "metadata": {},
   "outputs": [],
   "source": [
    "def encode_labels(input_pickle_file, output_pickle_file, label_mapping_file):\n",
    "    # Load the data from the pickle file\n",
    "    with open(input_pickle_file, 'rb') as f:\n",
    "        img_data, img_labels = pickle.load(f)\n",
    "\n",
    "    # Print initial info\n",
    "    print_image_info(img_data, img_labels, \"After loading in encode_labels\")\n",
    "\n",
    "    # Check unique labels\n",
    "    unique_labels = set(img_labels)\n",
    "    print(f\"Unique labels before encoding: {unique_labels}\")\n",
    "\n",
    "    # Encode labels\n",
    "    sorted_labels = sorted(unique_labels)\n",
    "    label_to_int = {label: idx for idx, label in enumerate(sorted_labels)}\n",
    "    img_labels_int = np.array([label_to_int[label] for label in img_labels])\n",
    "\n",
    "    # Check encoded labels\n",
    "    unique_encoded_labels = set(img_labels_int)\n",
    "    print(f\"Unique labels after encoding: {unique_encoded_labels}\")\n",
    "\n",
    "    # Save encoded data\n",
    "    with open(output_pickle_file, 'wb') as f:\n",
    "        pickle.dump((img_data, img_labels_int), f)\n",
    "\n",
    "    # Save label mappings\n",
    "    label_mapping = {'label_to_int': label_to_int, 'int_to_label': {v: k for k, v in label_to_int.items()}}\n",
    "    with open(label_mapping_file, 'wb') as f:\n",
    "        pickle.dump(label_mapping, f)\n",
    "\n",
    "    # Print final info\n",
    "    print_image_info(img_data, img_labels_int, \"After encoding labels\")\n",
    "    print(\"Label mapping saved:\")\n",
    "    print(label_mapping)"
   ]
  },
  {
   "cell_type": "markdown",
   "metadata": {},
   "source": [
    "#### Split the data"
   ]
  },
  {
   "cell_type": "code",
   "execution_count": 7,
   "metadata": {},
   "outputs": [],
   "source": [
    "\n",
    "\n",
    "def split_data(input_pickle_file, train_output_file, val_output_file, test_output_file):\n",
    "    with open(input_pickle_file, 'rb') as f:\n",
    "        img_data, img_labels = pickle.load(f)\n",
    "\n",
    "    print_image_info(img_data, img_labels, \"After loading in split_data\")\n",
    "\n",
    "    train_data, temp_data, train_labels, temp_labels = train_test_split(img_data, img_labels, test_size=0.3, stratify=img_labels, random_state=42)\n",
    "    val_data, test_data, val_labels, test_labels = train_test_split(temp_data, temp_labels, test_size=0.4, stratify=temp_labels, random_state=42)\n",
    "\n",
    "    print_image_info(train_data, train_labels, \"Train data in split_data\")\n",
    "    print_image_info(val_data, val_labels, \"Validation data in split_data\")\n",
    "    print_image_info(test_data, test_labels, \"Test data in split_data\")\n",
    "\n",
    "    with open(train_output_file, 'wb') as f:\n",
    "        pickle.dump((train_data, train_labels), f)\n",
    "\n",
    "    with open(val_output_file, 'wb') as f:\n",
    "        pickle.dump((val_data, val_labels), f)\n",
    "\n",
    "    with open(test_output_file, 'wb') as f:\n",
    "        pickle.dump((test_data, test_labels), f)\n"
   ]
  },
  {
   "cell_type": "markdown",
   "metadata": {},
   "source": [
    "#### Visualize image"
   ]
  },
  {
   "cell_type": "code",
   "execution_count": 8,
   "metadata": {},
   "outputs": [],
   "source": [
    "def visualize_sample_images(images, labels, label_mapping, title):\n",
    "    fig, axs = plt.subplots(1, len(label_mapping), figsize=(15, 7))\n",
    "    class_to_images = {}\n",
    "    for img, label in zip(images, labels):\n",
    "        if label not in class_to_images:\n",
    "            class_to_images[label] = []\n",
    "        class_to_images[label].append(img)\n",
    "\n",
    "    for i, (label, images) in enumerate(class_to_images.items()):\n",
    "        img = random.choice(images)\n",
    "        img = img.squeeze()\n",
    "        ax = axs[i]\n",
    "        ax.imshow(img, cmap='gray')\n",
    "        ax.set_title(f\"Class: {label_mapping[label]}\")\n",
    "        ax.axis('off')\n",
    "\n",
    "    plt.suptitle(title)\n",
    "    plt.tight_layout()\n",
    "    plt.show()"
   ]
  },
  {
   "cell_type": "markdown",
   "metadata": {},
   "source": [
    "#### Convert sets into PIL files"
   ]
  },
  {
   "cell_type": "code",
   "execution_count": 9,
   "metadata": {},
   "outputs": [],
   "source": [
    "def convert_to_pil(training_set_pickle, val_set_pickle, test_set_pickle):\n",
    "    def convert(img):\n",
    "        img_pil = Image.fromarray((img * 255).astype(np.uint8), mode='L')\n",
    "        return img_pil\n",
    "\n",
    "    def process_and_save(input_pickle_file, output_pickle_file, set_name):\n",
    "        # Load the dataset\n",
    "        with open(input_pickle_file, 'rb') as f:\n",
    "            img_data, img_labels = pickle.load(f)\n",
    "\n",
    "        # Debug info before conversion\n",
    "        print(f\"Stage: {set_name} Before Conversion to PIL\")\n",
    "        print(f\"Number of images: {len(img_data)}\")\n",
    "        print(f\"Image shape: {img_data[0].shape}\")\n",
    "        print(f\"Image dtype: {img_data[0].dtype}\")\n",
    "        print(\"----\")\n",
    "\n",
    "        # Visualize sample images before conversion\n",
    "        with open('label_mapping.pkl', 'rb') as f:\n",
    "            label_mapping = pickle.load(f)\n",
    "        int_to_label = label_mapping['int_to_label']\n",
    "\n",
    "        visualize_sample_images(img_data, img_labels, int_to_label, f\"Before Conversion - {set_name}\")\n",
    "\n",
    "        # Convert each image to PIL format\n",
    "        img_data_pil = [convert(img) for img in img_data]\n",
    "\n",
    "        # Save the converted dataset to a pickle file\n",
    "        with open(output_pickle_file, 'wb') as f:\n",
    "            pickle.dump((img_data_pil, img_labels), f)\n",
    "\n",
    "        # Debug info after conversion\n",
    "        print(f\"Stage: {set_name} Converted to PIL\")\n",
    "        print(f\"Number of images: {len(img_data_pil)}\")\n",
    "        print(f\"Image size: {img_data_pil[0].size}\")\n",
    "        print(f\"Image mode: {img_data_pil[0].mode}\")\n",
    "        print(\"----\")\n",
    "\n",
    "    # Convert and save each dataset separately\n",
    "    process_and_save(training_set_pickle, 'pil_train_data.pkl', 'Training')\n",
    "    process_and_save(val_set_pickle, 'pil_val_data.pkl', 'Validation')\n",
    "    process_and_save(test_set_pickle, 'pil_test_data.pkl', 'Test')\n",
    "\n"
   ]
  },
  {
   "cell_type": "markdown",
   "metadata": {},
   "source": [
    "#### Augment the data in the training set"
   ]
  },
  {
   "cell_type": "code",
   "execution_count": 37,
   "metadata": {},
   "outputs": [],
   "source": [
    "def print_image_info(images, labels, stage):\n",
    "    print(f\"Stage: {stage}\")\n",
    "    print(f\"Number of images: {len(images)}\")\n",
    "    print(f\"Number of labels: {len(labels)}\")\n",
    "\n",
    "    if isinstance(images[0], np.ndarray):\n",
    "        print(f\"Image shape: {images[0].shape}\")\n",
    "        print(f\"Image dtype: {images[0].dtype}\")\n",
    "    elif isinstance(images[0], Image.Image):\n",
    "        print(f\"Image size: {images[0].size}\")\n",
    "        print(f\"Image mode: {images[0].mode}\")\n",
    "\n",
    "    unique_labels = set(labels)\n",
    "    print(f\"Unique labels: {unique_labels}\")\n",
    "    print(\"----\")\n",
    "\n",
    "data_transforms = transforms.Compose([\n",
    "    transforms.RandomRotation(60),\n",
    "    transforms.RandomResizedCrop(48, scale=(0.8, 1.0))\n",
    "])\n",
    "\n",
    "def augment_images(img_data_pil, target_count):\n",
    "    augmented_images_pil = []\n",
    "\n",
    "    while len(augmented_images_pil) + len(img_data_pil) < target_count:\n",
    "        for img_pil in img_data_pil:\n",
    "            if len(augmented_images_pil) + len(img_data_pil) >= target_count:\n",
    "                break\n",
    "\n",
    "            # Apply data transformations\n",
    "            augmented_img_pil = data_transforms(img_pil)\n",
    "            augmented_images_pil.append(augmented_img_pil)\n",
    "    \n",
    "    print_image_info(augmented_images_pil, [None]*len(augmented_images_pil), \"Augmented\")\n",
    "    return augmented_images_pil\n"
   ]
  },
  {
   "cell_type": "code",
   "execution_count": 38,
   "metadata": {},
   "outputs": [],
   "source": [
    "def balance_dataset(input_pickle_file, output_pickle_file, target_number_of_images):\n",
    "    # Load the data from the pickle file\n",
    "    with open(input_pickle_file, 'rb') as f:\n",
    "        img_data, img_labels = pickle.load(f)\n",
    "\n",
    "    # Load the label mappings\n",
    "    with open('label_mapping.pkl', 'rb') as f:\n",
    "        label_mapping = pickle.load(f)\n",
    "    int_to_label = label_mapping['int_to_label']\n",
    "\n",
    "    # Combine images and labels into a dictionary\n",
    "    img_data_dict = {label: [] for label in set(img_labels)}\n",
    "    for img, label in zip(img_data, img_labels):\n",
    "        img_data_dict[label].append(img)\n",
    "\n",
    "    # Balance the dataset\n",
    "    balanced_img_data_dict = {}\n",
    "\n",
    "    for label, img_list in img_data_dict.items():\n",
    "        print(f'Processing {label}, {len(img_list)} images')\n",
    "\n",
    "        if len(img_list) < target_number_of_images:\n",
    "            augmented_imgs = augment_images(img_list, target_number_of_images)\n",
    "            balanced_img_data_dict[label] = img_list + augmented_imgs\n",
    "        else:\n",
    "            balanced_img_data_dict[label] = img_list\n",
    "\n",
    "        with open(f'{label}_balanced_images.pkl', 'wb') as f:\n",
    "            pickle.dump(balanced_img_data_dict[label], f)\n",
    "        print(f'{label}_balanced_images.pkl has been saved with {len(balanced_img_data_dict[label])} images')\n",
    "\n",
    "    balanced_img_data = []\n",
    "    balanced_img_labels = []\n",
    "    for label, imgs in balanced_img_data_dict.items():\n",
    "        balanced_img_data.extend(imgs)\n",
    "        balanced_img_labels.extend([label] * len(imgs))\n",
    "\n",
    "    balanced_img_data = np.array(balanced_img_data)\n",
    "    balanced_img_labels = np.array(balanced_img_labels)\n",
    "\n",
    "    with open(output_pickle_file, 'wb') as f:\n",
    "        pickle.dump((balanced_img_data, balanced_img_labels), f)\n",
    "    print(f'{output_pickle_file} has been saved')\n",
    "\n",
    "\n"
   ]
  },
  {
   "cell_type": "markdown",
   "metadata": {},
   "source": [
    "#### Convert sets back to Numpy arrays and normalize"
   ]
  },
  {
   "cell_type": "code",
   "execution_count": 46,
   "metadata": {},
   "outputs": [],
   "source": [
    "def convert_to_numpy_array(pil_augmented_train_data, pil_val_data, pil_test_data):\n",
    "    def convert_back(img_pil):\n",
    "        img_numpy = np.array(img_pil).astype('float32') / 255.0\n",
    "        if img_numpy.ndim == 2:\n",
    "            img_numpy = np.expand_dims(img_numpy, axis=0)\n",
    "        elif img_numpy.ndim == 3 and img_numpy.shape[2] == 1:\n",
    "            img_numpy = np.squeeze(img_numpy, axis=2)\n",
    "            img_numpy = np.expand_dims(img_numpy, axis=0)\n",
    "        return img_numpy\n",
    "\n",
    "    def process_and_save(input_pickle_file, output_pickle_file, set_name):\n",
    "        # Load the dataset\n",
    "        with open(input_pickle_file, 'rb') as f:\n",
    "            img_data_pil, img_labels = pickle.load(f)\n",
    "\n",
    "        # Convert each image back to numpy array\n",
    "        img_data_numpy = [convert_back(img) for img in img_data_pil]\n",
    "\n",
    "        # Save the converted dataset to a pickle file\n",
    "        with open(output_pickle_file, 'wb') as f:\n",
    "            pickle.dump((img_data_numpy, img_labels), f)\n",
    "\n",
    "        # Debug info\n",
    "        print(f\"Stage: {set_name} Converted back to a numpy array\")\n",
    "        print(f\"Number of images: {len(img_data_numpy)}\")\n",
    "        print(f\"Image shape: {img_data_numpy[0].shape}\")\n",
    "        print(f\"Image dtype: {img_data_numpy[0].dtype}\")\n",
    "        print(\"----\")\n",
    "\n",
    "        # Visualize sample images\n",
    "        with open('label_mapping.pkl', 'rb') as f:\n",
    "            label_mapping = pickle.load(f)\n",
    "        int_to_label = label_mapping['int_to_label']\n",
    "\n",
    "        visualize_sample_images(img_data_numpy, img_labels, int_to_label, f\"After Conversion - {set_name}\")\n",
    "\n",
    "    # Convert and save each dataset separately\n",
    "    process_and_save(pil_augmented_train_data, 'numpy_train_data.pkl', 'Training')\n",
    "    process_and_save(pil_val_data, 'numpy_val_data.pkl', 'Validation')\n",
    "    process_and_save(pil_test_data, 'numpy_test_data.pkl', 'Test')\n",
    "\n",
    "\n"
   ]
  },
  {
   "cell_type": "markdown",
   "metadata": {},
   "source": [
    "#### Normalize all datasets"
   ]
  },
  {
   "cell_type": "markdown",
   "metadata": {},
   "source": [
    "#### Count and Plot the number of itmes for each class"
   ]
  },
  {
   "cell_type": "code",
   "execution_count": 12,
   "metadata": {},
   "outputs": [],
   "source": [
    "# Helper function to count and plot the items for each label\n",
    "def count_items_in_classes(dataset_file):\n",
    "    # Load the pickled data\n",
    "    with open(dataset_file, 'rb') as f:\n",
    "        img_data, img_labels = pickle.load(f)\n",
    "\n",
    "    # Count the occurrences of each label\n",
    "    unique_labels, counts = np.unique(img_labels, return_counts=True)\n",
    "    \n",
    "    # Print the counts for each label\n",
    "    for label, count in zip(unique_labels, counts):\n",
    "        print(f'Label {label}: {count} items')"
   ]
  },
  {
   "cell_type": "code",
   "execution_count": 13,
   "metadata": {},
   "outputs": [],
   "source": [
    "#Helper function to cont and plot the items for each label\n",
    "def plot_items_in_classes(dataset_file):\n",
    "    # Load the pickled data\n",
    "    with open(dataset_file, 'rb') as f:\n",
    "        img_data, img_labels = pickle.load(f)\n",
    "\n",
    "    # Count the occurrences of each label\n",
    "    unique_labels, counts = np.unique(img_labels, return_counts=True)\n",
    "\n",
    "    # Create the bar plot\n",
    "    plt.figure(figsize=(10, 6))\n",
    "    plt.bar(unique_labels, counts, color='skyblue')\n",
    "    plt.xlabel('Emotion')\n",
    "    plt.ylabel('Number of Images')\n",
    "    plt.title('Number of Images per Emotion Label')\n",
    "    plt.xticks(rotation=45)\n",
    "    plt.tight_layout()\n",
    "    plt.show()"
   ]
  },
  {
   "cell_type": "markdown",
   "metadata": {},
   "source": [
    "#### Verify the correctness of the labels"
   ]
  },
  {
   "cell_type": "code",
   "execution_count": 14,
   "metadata": {},
   "outputs": [],
   "source": [
    "# Helper function to load the pickled data and verify the images\n",
    "def verify_images(dataset_file):\n",
    "    with open(dataset_file, 'rb') as f:\n",
    "        img_data, img_labels = pickle.load(f)\n",
    "\n",
    "    # Randomly pick and plot one image from each class\n",
    "    plt.figure(figsize=(16, 8))\n",
    "\n",
    "    unique_labels = np.unique(img_labels)\n",
    "    for idx, label in enumerate(unique_labels):\n",
    "        # Get all images for the current label\n",
    "        label_images = img_data[img_labels == label]\n",
    "\n",
    "        # Randomly select one image\n",
    "        random_image = random.choice(label_images)\n",
    "\n",
    "        plt.subplot(2, 4, idx + 1)\n",
    "        plt.imshow(random_image, cmap='gray')\n",
    "        plt.title(label)\n",
    "        plt.axis('off')\n",
    "\n",
    "    plt.tight_layout()\n",
    "    plt.show()"
   ]
  },
  {
   "cell_type": "code",
   "execution_count": 51,
   "metadata": {},
   "outputs": [],
   "source": [
    "def verify_images(dataset_file):\n",
    "    with open(dataset_file, 'rb') as f:\n",
    "        img_data, img_labels = pickle.load(f)\n",
    "\n",
    "    # Load the label mappings\n",
    "    label_mapping_file = 'label_mapping.pkl'\n",
    "    with open(label_mapping_file, 'rb') as f:\n",
    "        label_mapping = pickle.load(f)\n",
    "    int_to_label = label_mapping['int_to_label']\n",
    "\n",
    "    # Organize images by class\n",
    "    class_to_images = {}\n",
    "    for img, label in zip(img_data, img_labels):\n",
    "        if label not in class_to_images:\n",
    "            class_to_images[label] = []\n",
    "        class_to_images[label].append(img)\n",
    "\n",
    "    # Plot one sample image for each class\n",
    "    num_classes = len(class_to_images)\n",
    "    fig, axs = plt.subplots(1, num_classes, figsize=(15, 5))\n",
    "\n",
    "    for i, (label, images) in enumerate(class_to_images.items()):\n",
    "        img = random.choice(images)\n",
    "        \n",
    "        # Ensure the image values are in [0, 1]\n",
    "        img = np.clip(img, 0.0, 1.0)\n",
    "        \n",
    "        # If the image has a singleton dimension, squeeze it\n",
    "        if img.shape[0] == 1:\n",
    "            img = img.squeeze(0)\n",
    "        else:\n",
    "            img = img.squeeze()\n",
    "        \n",
    "        # Debugging: Print image information\n",
    "        print(f\"Class: {int_to_label[label]}, Image shape: {img.shape}, dtype: {img.dtype}, min: {img.min()}, max: {img.max()}\")\n",
    "\n",
    "        # Display the image\n",
    "        ax = axs[i]\n",
    "        ax.imshow(img, cmap='gray')\n",
    "        ax.set_title(f\"Class: {int_to_label[label]}\")\n",
    "        ax.axis('off')\n",
    "\n",
    "    plt.tight_layout()\n",
    "    plt.show()"
   ]
  },
  {
   "cell_type": "markdown",
   "metadata": {},
   "source": [
    "#### Remove classes from the dataset"
   ]
  },
  {
   "cell_type": "code",
   "execution_count": 15,
   "metadata": {},
   "outputs": [],
   "source": [
    "def remove_classes_and_save(input_pickle_file, output_pickle_file, classes_to_remove):\n",
    "    # Load the pickled data\n",
    "    with open(input_pickle_file, 'rb') as f:\n",
    "        img_data, img_labels = pickle.load(f)\n",
    "    \n",
    "    # Create lists to store the filtered data\n",
    "    filtered_img_data = []\n",
    "    filtered_img_labels = []\n",
    "    \n",
    "    # Remove specified classes from the dataset\n",
    "    for img, label in zip(img_data, img_labels):\n",
    "        if label not in classes_to_remove:\n",
    "            filtered_img_data.append(img)\n",
    "            filtered_img_labels.append(label)\n",
    "    \n",
    "    # Convert lists to numpy arrays\n",
    "    filtered_img_data = np.array(filtered_img_data, dtype=np.float32)\n",
    "    filtered_img_labels = np.array(filtered_img_labels, dtype=img_labels.dtype)\n",
    "    \n",
    "    # Save the filtered dataset to a new pickle file\n",
    "    with open(output_pickle_file, 'wb') as f:\n",
    "        pickle.dump((filtered_img_data, filtered_img_labels), f)\n",
    "    \n",
    "    print(f\"Dataset without classes {classes_to_remove} saved to {output_pickle_file}\")\n",
    "\n"
   ]
  },
  {
   "cell_type": "markdown",
   "metadata": {},
   "source": [
    "#### Transform the data into PyTorch tensors"
   ]
  },
  {
   "cell_type": "code",
   "execution_count": 61,
   "metadata": {},
   "outputs": [],
   "source": [
    "def convert_to_tensors(images, labels):\n",
    "    # Convert list of numpy arrays to a single numpy array\n",
    "    images_np = np.array(images)\n",
    "    labels_np = np.array(labels)\n",
    "    \n",
    "    # Convert images and labels to PyTorch tensors\n",
    "    all_images_tensor = torch.tensor(images_np, dtype=torch.float32)\n",
    "    all_labels_tensor = torch.tensor(labels_np, dtype=torch.int64)\n",
    "    \n",
    "    # Combine into a dataset\n",
    "    dataset = TensorDataset(all_images_tensor, all_labels_tensor)\n",
    "    return dataset\n",
    "\n",
    "def save_dataset_to_pickle(dataset, output_pickle_file):\n",
    "    with open(output_pickle_file, 'wb') as f:\n",
    "        pickle.dump(dataset, f)"
   ]
  },
  {
   "cell_type": "markdown",
   "metadata": {},
   "source": [
    "## Exploratory Data Analysis"
   ]
  },
  {
   "cell_type": "code",
   "execution_count": 4,
   "metadata": {},
   "outputs": [
    {
     "name": "stdout",
     "output_type": "stream",
     "text": [
      "Label Anger: 4977 items\n",
      "Label Contempt: 73 items\n",
      "Label Disgust: 743 items\n",
      "Label Fear: 5003 items\n",
      "Label Happiness: 9111 items\n",
      "Label Neutral: 6155 items\n",
      "Label Sadness: 6100 items\n",
      "Label Surprise: 3599 items\n"
     ]
    }
   ],
   "source": [
    "# Specify the input dataset file\n",
    "dataset_file = 'images_labels_no_duplicates.pkl'\n",
    "\n",
    "count_items_in_classes(dataset_file)"
   ]
  },
  {
   "cell_type": "markdown",
   "metadata": {},
   "source": [
    "Disgust and especially Contempt are extremely underepresented classes, therefore we either need to dramatically reduce the size of all classes to fewer than 1000 or perhaps 500 images, find new images, or remove Contempt and Disgust from this particular experiment."
   ]
  },
  {
   "cell_type": "markdown",
   "metadata": {},
   "source": [
    "Let's remove Disgust and Contempt because they are to underrepresented."
   ]
  },
  {
   "cell_type": "code",
   "execution_count": 22,
   "metadata": {},
   "outputs": [
    {
     "name": "stdout",
     "output_type": "stream",
     "text": [
      "Dataset without classes ['Disgust', 'Contempt'] saved to images_labels_no_duplicates_no_dis_cont.pkl\n"
     ]
    }
   ],
   "source": [
    "input_pickle_file = 'images_labels_no_duplicates.pkl'\n",
    "output_pickle_file = 'images_labels_no_duplicates_no_dis_cont.pkl'\n",
    "classes_to_remove = ['Disgust', 'Contempt']\n",
    "\n",
    "remove_classes_and_save(input_pickle_file, output_pickle_file, classes_to_remove)"
   ]
  },
  {
   "cell_type": "code",
   "execution_count": 23,
   "metadata": {},
   "outputs": [
    {
     "name": "stdout",
     "output_type": "stream",
     "text": [
      "Label Anger: 4977 items\n",
      "Label Fear: 5003 items\n",
      "Label Happiness: 9111 items\n",
      "Label Neutral: 6155 items\n",
      "Label Sadness: 6100 items\n",
      "Label Surprise: 3599 items\n"
     ]
    }
   ],
   "source": [
    "# Specify the input dataset file\n",
    "dataset_file = 'images_labels_no_duplicates_no_dis_cont.pkl'\n",
    "\n",
    "count_items_in_classes(dataset_file)"
   ]
  },
  {
   "cell_type": "markdown",
   "metadata": {},
   "source": [
    "The Disgust and Contempt classes have been removed successfully, and the new dataset has been saved in a pickle file."
   ]
  },
  {
   "cell_type": "code",
   "execution_count": 24,
   "metadata": {},
   "outputs": [
    {
     "data": {
      "image/png": "[encoded data removed]",
      "text/plain": [
       "<Figure size 1000x600 with 1 Axes>"
      ]
     },
     "metadata": {},
     "output_type": "display_data"
    }
   ],
   "source": [
    "# Specify the input dataset file\n",
    "dataset_file = 'images_labels_no_duplicates_no_dis_cont.pkl'\n",
    "\n",
    "# Execute the verification function\n",
    "plot_items_in_classes(dataset_file)"
   ]
  },
  {
   "cell_type": "markdown",
   "metadata": {},
   "source": [
    "We could use the new function to randomly reduce the number of items in the Happiness class so it equals the Neutral class, then we can augment all classes to reach a cerain number of images."
   ]
  },
  {
   "cell_type": "markdown",
   "metadata": {},
   "source": [
    "## Data preprocessing, splitting, and augmentation"
   ]
  },
  {
   "cell_type": "markdown",
   "metadata": {},
   "source": [
    "#### Random data reduction to reduce class imbalances"
   ]
  },
  {
   "cell_type": "markdown",
   "metadata": {},
   "source": [
    "Even if random data reduction on majority classes would make classes much more balanced, we tested the smaller dataset, and the model underfits the data. There is why we are going to train with a bigger dataset for the moment, even if classes are less balanced."
   ]
  },
  {
   "cell_type": "code",
   "execution_count": null,
   "metadata": {},
   "outputs": [],
   "source": [
    "input_pickle_file = \"images_labels_no_duplicates_no_dis_cont.pkl\"\n",
    "output_pickle_file = \"reduced_images_3.pkl\"\n",
    "#max_samples_per_class = 5003\n",
    "max_samples_per_class = 9111\n",
    "\n",
    "#Reduce majority classes\n",
    "reduce_majority_classes(input_pickle_file, output_pickle_file, max_samples_per_class)"
   ]
  },
  {
   "cell_type": "markdown",
   "metadata": {},
   "source": [
    "#### Process and transform the data"
   ]
  },
  {
   "cell_type": "code",
   "execution_count": null,
   "metadata": {},
   "outputs": [],
   "source": [
    "input_pickle_file = \"reduced_images_3.pkl\"\n",
    "output_pickle_file = \"processed_images_3.pkl\"\n",
    "\n",
    "load_and_preprocess_images(input_pickle_file, output_pickle_file)"
   ]
  },
  {
   "cell_type": "markdown",
   "metadata": {},
   "source": [
    "#### Encode labels"
   ]
  },
  {
   "cell_type": "code",
   "execution_count": null,
   "metadata": {},
   "outputs": [],
   "source": [
    "#input_pickle_file = \"reduced_images_3.pkl\"\n",
    "input_pickle_file = 'processed_images_3.pkl'\n",
    "output_pickle_file = 'encoded_images.pkl'\n",
    "label_mapping = 'label_mapping.pkl'\n",
    "encode_labels(input_pickle_file, output_pickle_file, label_mapping)\n"
   ]
  },
  {
   "cell_type": "markdown",
   "metadata": {},
   "source": [
    "#### Split the data"
   ]
  },
  {
   "cell_type": "markdown",
   "metadata": {},
   "source": [
    "First of all we want to map the each label (string) into a corrresponding integer in a dictionary. Then we want to combine images and corresponding labels in separate lists and convert them into numpy arrays."
   ]
  },
  {
   "cell_type": "markdown",
   "metadata": {},
   "source": [
    "We want to sort the labels with a specific order (e.g., alphabetically), so each time we run the cell, we get the set of labels in the same order."
   ]
  },
  {
   "cell_type": "code",
   "execution_count": null,
   "metadata": {},
   "outputs": [],
   "source": [
    "input_pickle_file = \"encoded_images.pkl\"\n",
    "train_output_file = 'train_data_3.pkl'\n",
    "val_output_file = 'val_data_3.pkl'\n",
    "test_output_file = 'test_data_3.pkl'\n",
    "\n",
    "torch.manual_seed(42)\n",
    "\n",
    "#Split data into train, validation, and test sets\n",
    "split_data(input_pickle_file, train_output_file, val_output_file, test_output_file)"
   ]
  },
  {
   "cell_type": "markdown",
   "metadata": {},
   "source": [
    "#### Convert sets into PIL files"
   ]
  },
  {
   "cell_type": "code",
   "execution_count": null,
   "metadata": {},
   "outputs": [],
   "source": [
    "training_set_pickle = 'train_data_3.pkl'\n",
    "val_set_pickle= 'val_data_3.pkl'\n",
    "test_set_pickle = 'test_data_3.pkl'\n",
    "\n",
    "convert_to_pil(training_set_pickle, val_set_pickle, test_set_pickle)"
   ]
  },
  {
   "cell_type": "markdown",
   "metadata": {},
   "source": [
    "#### Augment the training data"
   ]
  },
  {
   "cell_type": "markdown",
   "metadata": {},
   "source": [
    "We are going to apply a 60-degree random rotation, in contrast to the 10-degree random rotation we applied in the previous notebook. This is because humans generally, when bending their neck on the side, they do so by 40 to 80 degrees. Therefore, 60 degrees looks like a good compromise."
   ]
  },
  {
   "cell_type": "code",
   "execution_count": null,
   "metadata": {},
   "outputs": [],
   "source": [
    "input_pickle_file = 'pil_train_data.pkl'\n",
    "output_pickle_file = 'pil_train_data_augmented_3.pkl'\n",
    "#target_number_of_images = 8000\n",
    "target_number_of_images = 10000\n",
    "\n",
    "#Augment training data\n",
    "balance_dataset(input_pickle_file, output_pickle_file, target_number_of_images)"
   ]
  },
  {
   "cell_type": "markdown",
   "metadata": {},
   "source": [
    "#### Convert back to numpy arrays"
   ]
  },
  {
   "cell_type": "code",
   "execution_count": null,
   "metadata": {},
   "outputs": [],
   "source": [
    "pil_augmented_train_data = 'pil_train_data_augmented_3.pkl'\n",
    "pil_val_data = 'pil_val_data.pkl'\n",
    "pil_test_data = 'pil_test_data.pkl'\n",
    "\n",
    "convert_to_numpy_array(pil_augmented_train_data, pil_val_data, pil_test_data)"
   ]
  },
  {
   "cell_type": "markdown",
   "metadata": {},
   "source": [
    "#### Verify the dataset and labels"
   ]
  },
  {
   "cell_type": "code",
   "execution_count": null,
   "metadata": {},
   "outputs": [],
   "source": [
    "# Load the data from the pickle file\n",
    "dataset_file = 'numpy_train_data.pkl'\n",
    "\n",
    "verify_images(dataset_file)"
   ]
  },
  {
   "cell_type": "code",
   "execution_count": null,
   "metadata": {},
   "outputs": [],
   "source": [
    "# Load the data from the pickle file\n",
    "dataset_file = 'numpy_val_data.pkl'\n",
    "\n",
    "verify_images(dataset_file)"
   ]
  },
  {
   "cell_type": "code",
   "execution_count": null,
   "metadata": {},
   "outputs": [],
   "source": [
    "# Load the data from the pickle file\n",
    "dataset_file = 'numpy_test_data.pkl'\n",
    "\n",
    "verify_images(dataset_file)"
   ]
  },
  {
   "cell_type": "markdown",
   "metadata": {},
   "source": [
    "It looks like the data has been uploaded correctly."
   ]
  },
  {
   "cell_type": "markdown",
   "metadata": {},
   "source": [
    "## Load the data and define the dataloaders"
   ]
  },
  {
   "cell_type": "markdown",
   "metadata": {},
   "source": [
    "As a final step we want to create dataloaders, which are utilities responsible of loading the data into the model in batches. We have also saved each dataset into a pickle file, so we can easily load them without having to run the code above each time we open this notebook."
   ]
  },
  {
   "cell_type": "code",
   "execution_count": 95,
   "metadata": {},
   "outputs": [],
   "source": [
    "# Load the data from a pickle file\n",
    "#train_dataset = pd.read_pickle('train_data_augmented_3.pkl')\n",
    "train_dataset = pd.read_pickle('numpy_train_data.pkl')\n",
    "#train_dataset_original = pd.read_pickle('train_data_3.pkl')\n",
    "val_dataset = pd.read_pickle('numpy_val_data.pkl')\n",
    "test_dataset = pd.read_pickle('numpy_test_data.pkl')\n",
    "label_mapping = pd.read_pickle('label_mapping.pkl')"
   ]
  },
  {
   "cell_type": "code",
   "execution_count": null,
   "metadata": {},
   "outputs": [],
   "source": [
    "# Inspect the structure of the datasets\n",
    "print(\"Train Dataset Type:\", type(train_dataset))\n",
    "print(\"Train Dataset Sample:\", train_dataset[:2])  # Print first 2 items for inspection\n",
    "\n",
    "print(\"Validation Dataset Type:\", type(val_dataset))\n",
    "print(\"Validation Dataset Sample:\", val_dataset[:2])  # Print first 2 items for inspection\n",
    "\n",
    "print(\"Test Dataset Type:\", type(test_dataset))\n",
    "print(\"Test Dataset Sample:\", test_dataset[:2])  # Print first 2 items for inspection"
   ]
  },
  {
   "cell_type": "code",
   "execution_count": 97,
   "metadata": {},
   "outputs": [],
   "source": [
    "# Convert the datasets to TensorDatasets\n",
    "train_tensors = convert_to_tensors(train_dataset[0], train_dataset[1])\n",
    "val_tensors = convert_to_tensors(val_dataset[0], val_dataset[1])\n",
    "test_tensors = convert_to_tensors(test_dataset[0], test_dataset[1])\n",
    "\n",
    "# Save the converted datasets to new pickle files\n",
    "#save_dataset_to_pickle(train_tensors, 'train_data_augmented_3_tensors.pkl')\n",
    "save_dataset_to_pickle(train_tensors, 'train_data_3_tensors.pkl')\n",
    "save_dataset_to_pickle(val_tensors, 'val_data_3_tensors.pkl')\n",
    "save_dataset_to_pickle(test_tensors, 'test_data_3_tensors.pkl')"
   ]
  },
  {
   "cell_type": "code",
   "execution_count": 10,
   "metadata": {},
   "outputs": [],
   "source": [
    "# Load the datasets for our models\n",
    "#train_tensors = pd.read_pickle('train_data_augmented_3_tensors.pkl')\n",
    "train_tensors = pd.read_pickle('train_data_3_tensors.pkl')\n",
    "val_tensors = pd.read_pickle('val_data_3_tensors.pkl')\n",
    "test_tensors = pd.read_pickle('test_data_3_tensors.pkl')"
   ]
  },
  {
   "cell_type": "code",
   "execution_count": 11,
   "metadata": {},
   "outputs": [],
   "source": [
    "# Create DataLoaders for each set\n",
    "train_loader = DataLoader(train_tensors, batch_size=32, shuffle=True)\n",
    "val_loader = DataLoader(val_tensors, batch_size=32, shuffle=False)\n",
    "test_loader = DataLoader(test_tensors, batch_size=32, shuffle=False)"
   ]
  }
 ],
 "metadata": {
  "kernelspec": {
   "display_name": "Python 3",
   "language": "python",
   "name": "python3"
  },
  "language_info": {
   "codemirror_mode": {
    "name": "ipython",
    "version": 3
   },
   "file_extension": ".py",
   "mimetype": "text/x-python",
   "name": "python",
   "nbconvert_exporter": "python",
   "pygments_lexer": "ipython3",
   "version": "3.11.3"
  }
 },
 "nbformat": 4,
 "nbformat_minor": 2
}
